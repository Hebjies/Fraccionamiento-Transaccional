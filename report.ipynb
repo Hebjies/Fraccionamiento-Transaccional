{
 "cells": [
  {
   "cell_type": "markdown",
   "metadata": {},
   "source": [
    "# Nequi project"
   ]
  },
  {
   "cell_type": "markdown",
   "metadata": {},
   "source": [
    "### 1. Based on the link provided, files are dowloaded with aws cli."
   ]
  },
  {
   "cell_type": "code",
   "execution_count": 1,
   "metadata": {},
   "outputs": [
    {
     "name": "stdout",
     "output_type": "stream",
     "text": [
      "download: s3://nequi-open-data/sample_data_0006_part_00.parquet to ./sample_data_0006_part_00.parquet\n"
     ]
    }
   ],
   "source": [
    "!aws s3 cp \"s3://nequi-open-data/sample_data_0006_part_00.parquet\" ."
   ]
  },
  {
   "cell_type": "code",
   "execution_count": 2,
   "metadata": {},
   "outputs": [
    {
     "name": "stdout",
     "output_type": "stream",
     "text": [
      "download: s3://nequi-open-data/sample_data_0007_part_00.parquet to ./sample_data_0007_part_00.parquet\n"
     ]
    }
   ],
   "source": [
    "!aws s3 cp \"s3://nequi-open-data/sample_data_0007_part_00.parquet\" ."
   ]
  },
  {
   "cell_type": "markdown",
   "metadata": {},
   "source": [
    "### 2. Reading the file"
   ]
  },
  {
   "cell_type": "markdown",
   "metadata": {},
   "source": [
    "#### 2.a Pandas is first used to read parquet files"
   ]
  },
  {
   "cell_type": "code",
   "execution_count": 1,
   "metadata": {},
   "outputs": [],
   "source": [
    "import pandas as pd"
   ]
  },
  {
   "cell_type": "code",
   "execution_count": 2,
   "metadata": {},
   "outputs": [],
   "source": [
    "sample006 = pd.read_parquet('./sample_data_0006_part_00.parquet')\n",
    "sample007 = pd.read_parquet('./sample_data_0007_part_00.parquet')\n",
    "\n",
    "samples = pd.concat([sample006,sample007], ignore_index=True) # Since the whole data is stuided, samples are concatanated."
   ]
  },
  {
   "cell_type": "markdown",
   "metadata": {},
   "source": [
    "With Pandas it took 45.0 seconds to read and concatenate the files."
   ]
  },
  {
   "cell_type": "markdown",
   "metadata": {},
   "source": [
    "#### 2.b Pyspark is used to improve times"
   ]
  },
  {
   "cell_type": "code",
   "execution_count": 1,
   "metadata": {},
   "outputs": [],
   "source": [
    "from pyspark.sql import SparkSession\n",
    "from pyspark.sql import functions as F"
   ]
  },
  {
   "cell_type": "code",
   "execution_count": 2,
   "metadata": {},
   "outputs": [
    {
     "name": "stderr",
     "output_type": "stream",
     "text": [
      "23/08/09 21:39:47 WARN Utils: Your hostname, Danielas-MacBook-Air.local resolves to a loopback address: 127.0.0.1; using 192.168.1.8 instead (on interface en0)\n",
      "23/08/09 21:39:47 WARN Utils: Set SPARK_LOCAL_IP if you need to bind to another address\n",
      "Setting default log level to \"WARN\".\n",
      "To adjust logging level use sc.setLogLevel(newLevel). For SparkR, use setLogLevel(newLevel).\n",
      "23/08/09 21:39:49 WARN NativeCodeLoader: Unable to load native-hadoop library for your platform... using builtin-java classes where applicable\n"
     ]
    }
   ],
   "source": [
    "spark = SparkSession.builder.appName(\"NequiProject\").getOrCreate()"
   ]
  },
  {
   "cell_type": "code",
   "execution_count": 3,
   "metadata": {},
   "outputs": [
    {
     "name": "stderr",
     "output_type": "stream",
     "text": [
      "                                                                                \r"
     ]
    }
   ],
   "source": [
    "sample006 = spark.read.parquet('./sample_data_0006_part_00.parquet')\n",
    "sample007 = spark.read.parquet('./sample_data_0007_part_00.parquet')\n",
    "samples = sample006.union(sample007)\n",
    "samples = samples.na.drop()"
   ]
  },
  {
   "cell_type": "markdown",
   "metadata": {},
   "source": [
    "Since pyspark is more time efficient, the project will use it instead of pandas."
   ]
  },
  {
   "cell_type": "code",
   "execution_count": 4,
   "metadata": {},
   "outputs": [
    {
     "name": "stderr",
     "output_type": "stream",
     "text": [
      "                                                                                \r"
     ]
    },
    {
     "name": "stdout",
     "output_type": "stream",
     "text": [
      "+--------------------+--------------------+--------------------+-------------------+--------------------+--------------------+------------------+----------------+\n",
      "|         merchant_id|                 _id|          subsidiary|   transaction_date|      account_number|             user_id|transaction_amount|transaction_type|\n",
      "+--------------------+--------------------+--------------------+-------------------+--------------------+--------------------+------------------+----------------+\n",
      "|075d178871d8d4850...|aa8dacff663072244...|824b2af470cbe6a65...|2021-09-12 13:32:03|648e257c9d74909a1...|ba42d192a145583ba...|      178.33365037|         CREDITO|\n",
      "|075d178871d8d4850...|a53bb81bd0bba2ae2...|2d8d34be7509a6b12...|2021-09-12 13:31:58|c0b62f9046c83ea55...|5cfff960ea6d732c1...|       35.66673007|         CREDITO|\n",
      "|075d178871d8d4850...|79f893ea65c06fe29...|5eeb18254850b21af...|2021-09-12 13:31:56|872d10143fc0ac7d5...|c97e63a92c82c7217...|      142.66692029|         CREDITO|\n",
      "|075d178871d8d4850...|ce577223699dbdc11...|5221a599856c0a058...|2021-09-12 13:31:10|2e35cfe7860a480a9...|fc09bdd00f283222d...|        8.32223701|         CREDITO|\n",
      "|075d178871d8d4850...|0ce7ab2950e7a788a...|971e55ef12d80ec07...|2021-09-12 13:31:07|995bc89e4c4e00334...|213527e8ba94fcaf2...|       32.10005706|         CREDITO|\n",
      "+--------------------+--------------------+--------------------+-------------------+--------------------+--------------------+------------------+----------------+\n",
      "only showing top 5 rows\n",
      "\n"
     ]
    }
   ],
   "source": [
    "samples.show(5)"
   ]
  },
  {
   "cell_type": "code",
   "execution_count": 5,
   "metadata": {},
   "outputs": [
    {
     "name": "stdout",
     "output_type": "stream",
     "text": [
      "root\n",
      " |-- merchant_id: string (nullable = true)\n",
      " |-- _id: string (nullable = true)\n",
      " |-- subsidiary: string (nullable = true)\n",
      " |-- transaction_date: timestamp (nullable = true)\n",
      " |-- account_number: string (nullable = true)\n",
      " |-- user_id: string (nullable = true)\n",
      " |-- transaction_amount: decimal(24,8) (nullable = true)\n",
      " |-- transaction_type: string (nullable = true)\n",
      "\n"
     ]
    }
   ],
   "source": [
    "samples.printSchema()"
   ]
  },
  {
   "cell_type": "code",
   "execution_count": 5,
   "metadata": {},
   "outputs": [],
   "source": [
    "spark.conf.set(\"spark.sql.legacy.timeParserPolicy\",\"LEGACY\")"
   ]
  },
  {
   "cell_type": "markdown",
   "metadata": {},
   "source": [
    "Sum of transactions per day of the week"
   ]
  },
  {
   "cell_type": "code",
   "execution_count": 6,
   "metadata": {},
   "outputs": [
    {
     "name": "stderr",
     "output_type": "stream",
     "text": [
      "[Stage 2:=====================================================>   (15 + 1) / 16]\r"
     ]
    },
    {
     "name": "stdout",
     "output_type": "stream",
     "text": [
      "+-----------+------------------+\n",
      "|day_of_week|total_amount      |\n",
      "+-----------+------------------+\n",
      "|2          |661109882.95579203|\n",
      "|5          |650657929.53672232|\n",
      "|6          |631336590.36788792|\n",
      "|3          |629145744.09150287|\n",
      "|4          |620943152.52094752|\n",
      "|1          |590467515.02875521|\n",
      "|7          |332306833.41476303|\n",
      "+-----------+------------------+\n",
      "\n"
     ]
    },
    {
     "name": "stderr",
     "output_type": "stream",
     "text": [
      "                                                                                \r"
     ]
    }
   ],
   "source": [
    "samples.withColumn(\"day_of_week\", F.date_format(\"transaction_date\", \"u\").cast(\"int\")).groupBy(\"day_of_week\").agg(F.sum(\"transaction_amount\").alias(\"total_amount\")).orderBy(F.desc(\"total_amount\")).show(truncate=False)"
   ]
  },
  {
   "cell_type": "markdown",
   "metadata": {},
   "source": [
    "Checking how large is a user_id string is"
   ]
  },
  {
   "cell_type": "code",
   "execution_count": 6,
   "metadata": {},
   "outputs": [
    {
     "name": "stdout",
     "output_type": "stream",
     "text": [
      "+--------------------------------+\n",
      "|user_id                         |\n",
      "+--------------------------------+\n",
      "|ba42d192a145583ba8e7bf04875f837f|\n",
      "|5cfff960ea6d732c1ba3e63d24f3be52|\n",
      "|c97e63a92c82c7217b333635d75928ed|\n",
      "|fc09bdd00f283222d65eaff4d00a6594|\n",
      "|213527e8ba94fcaf2f9378969f9f6abc|\n",
      "+--------------------------------+\n",
      "only showing top 5 rows\n",
      "\n"
     ]
    }
   ],
   "source": [
    "samples.select(\"user_id\").show(5, truncate=False)"
   ]
  },
  {
   "cell_type": "markdown",
   "metadata": {},
   "source": [
    "Checking the years of data"
   ]
  },
  {
   "cell_type": "code",
   "execution_count": 7,
   "metadata": {},
   "outputs": [
    {
     "name": "stderr",
     "output_type": "stream",
     "text": [
      "[Stage 4:=====================================================>   (15 + 1) / 16]\r"
     ]
    },
    {
     "name": "stdout",
     "output_type": "stream",
     "text": [
      "+----+\n",
      "|Year|\n",
      "+----+\n",
      "|2021|\n",
      "|2020|\n",
      "+----+\n",
      "\n"
     ]
    },
    {
     "name": "stderr",
     "output_type": "stream",
     "text": [
      "                                                                                \r"
     ]
    }
   ],
   "source": [
    "samples.select(F.year(\"transaction_date\").alias(\"Year\")).distinct().show()"
   ]
  },
  {
   "cell_type": "markdown",
   "metadata": {},
   "source": [
    "Checking unique merchants"
   ]
  },
  {
   "cell_type": "code",
   "execution_count": 8,
   "metadata": {},
   "outputs": [
    {
     "name": "stderr",
     "output_type": "stream",
     "text": [
      "[Stage 7:=================================================>       (14 + 2) / 16]\r"
     ]
    },
    {
     "name": "stdout",
     "output_type": "stream",
     "text": [
      "+--------------------------------+\n",
      "|merchant_id                     |\n",
      "+--------------------------------+\n",
      "|075d178871d8d48502bf1f54887e52fe|\n",
      "|817d18cd3c31e40e9bff0566baae7758|\n",
      "|838a8fa992a4aa2fb5a0cf8b15b63755|\n",
      "+--------------------------------+\n",
      "\n"
     ]
    },
    {
     "name": "stderr",
     "output_type": "stream",
     "text": [
      "                                                                                \r"
     ]
    }
   ],
   "source": [
    "samples.select(\"merchant_id\").distinct().show(truncate=False)"
   ]
  },
  {
   "cell_type": "markdown",
   "metadata": {},
   "source": [
    "Checking users and accounts"
   ]
  },
  {
   "cell_type": "code",
   "execution_count": 9,
   "metadata": {},
   "outputs": [
    {
     "name": "stderr",
     "output_type": "stream",
     "text": [
      "[Stage 18:>                                                         (0 + 9) / 9]\r"
     ]
    },
    {
     "name": "stdout",
     "output_type": "stream",
     "text": [
      "Total unique users that has placed at least one transaction are 3,087,217, while there are a total of 3,099,711 accounts.\n"
     ]
    },
    {
     "name": "stderr",
     "output_type": "stream",
     "text": [
      "                                                                                \r"
     ]
    }
   ],
   "source": [
    "num_users = samples.select(\"user_id\").distinct().count()\n",
    "num_accounts = samples.select(\"account_number\").distinct().count()\n",
    "\n",
    "print(f\"Total unique users that has placed at least one transaction are {num_users:,}, while there are a total of {num_accounts:,} accounts.\")"
   ]
  },
  {
   "cell_type": "markdown",
   "metadata": {},
   "source": [
    "Checking top users transactions value and std"
   ]
  },
  {
   "cell_type": "code",
   "execution_count": 10,
   "metadata": {},
   "outputs": [
    {
     "name": "stderr",
     "output_type": "stream",
     "text": [
      "23/08/09 02:39:42 WARN RowBasedKeyValueBatch: Calling spill() on RowBasedKeyValueBatch. Will not spill but return 0.\n",
      "23/08/09 02:39:42 WARN RowBasedKeyValueBatch: Calling spill() on RowBasedKeyValueBatch. Will not spill but return 0.\n",
      "23/08/09 02:39:42 WARN RowBasedKeyValueBatch: Calling spill() on RowBasedKeyValueBatch. Will not spill but return 0.\n",
      "23/08/09 02:39:42 WARN RowBasedKeyValueBatch: Calling spill() on RowBasedKeyValueBatch. Will not spill but return 0.\n",
      "23/08/09 02:39:42 WARN RowBasedKeyValueBatch: Calling spill() on RowBasedKeyValueBatch. Will not spill but return 0.\n",
      "23/08/09 02:39:42 WARN RowBasedKeyValueBatch: Calling spill() on RowBasedKeyValueBatch. Will not spill but return 0.\n",
      "23/08/09 02:39:42 WARN RowBasedKeyValueBatch: Calling spill() on RowBasedKeyValueBatch. Will not spill but return 0.\n",
      "23/08/09 02:39:42 WARN RowBasedKeyValueBatch: Calling spill() on RowBasedKeyValueBatch. Will not spill but return 0.\n",
      "23/08/09 02:39:45 WARN RowBasedKeyValueBatch: Calling spill() on RowBasedKeyValueBatch. Will not spill but return 0.\n",
      "23/08/09 02:39:45 WARN RowBasedKeyValueBatch: Calling spill() on RowBasedKeyValueBatch. Will not spill but return 0.\n",
      "23/08/09 02:39:45 WARN RowBasedKeyValueBatch: Calling spill() on RowBasedKeyValueBatch. Will not spill but return 0.\n",
      "23/08/09 02:39:45 WARN RowBasedKeyValueBatch: Calling spill() on RowBasedKeyValueBatch. Will not spill but return 0.\n",
      "23/08/09 02:39:45 WARN RowBasedKeyValueBatch: Calling spill() on RowBasedKeyValueBatch. Will not spill but return 0.\n",
      "23/08/09 02:39:45 WARN RowBasedKeyValueBatch: Calling spill() on RowBasedKeyValueBatch. Will not spill but return 0.\n",
      "23/08/09 02:39:45 WARN RowBasedKeyValueBatch: Calling spill() on RowBasedKeyValueBatch. Will not spill but return 0.\n",
      "23/08/09 02:39:45 WARN RowBasedKeyValueBatch: Calling spill() on RowBasedKeyValueBatch. Will not spill but return 0.\n",
      "[Stage 31:=============================================>          (13 + 3) / 16]\r"
     ]
    },
    {
     "name": "stdout",
     "output_type": "stream",
     "text": [
      "+--------------------------------+-------------+----------------+------------------+\n",
      "|user_id                         |account_count|sum_transactions|std_deviation     |\n",
      "+--------------------------------+-------------+----------------+------------------+\n",
      "|8c292781ac3e591312d7fc5b767687ca|43           |57794.36941102  |297.1821683130902 |\n",
      "|6ba67792fbc4e375fa69ed6df0e44854|27           |59241.24976144  |441.69874871545954|\n",
      "|328550eea11d2441ab258a1f07581dc8|24           |6242.86665343   |91.07442149253173 |\n",
      "|a9fbdb2d32424dbac15edc0b17c12e23|23           |17405.36427600  |161.0434881880177 |\n",
      "|62e1cb0b55d1d7b577292916528ef6d8|20           |1190.07989329   |23.55723555824086 |\n",
      "|16100156a44d52a0ab40b2661dd648cc|17           |5350.00951085   |459.00474438452113|\n",
      "|94cf8a83c7f7d2b2d33450d9ca233ef6|17           |15539.99429289  |374.8176078533819 |\n",
      "|a71f0b8fc6267a4687430bea42310468|16           |13470.13505786  |249.89727904121185|\n",
      "|e066a19e39bbb74e82d0d88702292b7e|13           |4761.50846469   |68.08004653605938 |\n",
      "|be14ec758eeebe23d51338528f01ec4e|13           |10188.79589101  |157.0960030136617 |\n",
      "|7cac676a8d21f4fb7a66d4966dd3a12c|13           |90061.45853037  |379.62975093658156|\n",
      "|f0e7c4ab7966fcb88c1834057a4e9538|12           |5622.26554982   |127.39831519194975|\n",
      "|ac107913e0e0e1c0f8545cfd216d2aa9|10           |12373.97755321  |241.457048645901  |\n",
      "|5b8fae260460e55a5e88f205bab71493|10           |3099.43884318   |47.31447051850931 |\n",
      "|5e674596af22a66e826bf15b2a363cce|10           |38115.75041009  |9.664240449636598 |\n",
      "|5761bc095a32fe0b1cfc550d68ce0a1a|9            |18857.00018998  |828.0336796331437 |\n",
      "|87566d194870d73dc760b78428e4bbad|9            |8768.07114315   |435.1804319004531 |\n",
      "|6daf3c8da4f38d4a0926aac3c7696029|9            |2936.56077571   |97.48435442959996 |\n",
      "|e156a4ffeb46c534f281ed35175828bd|9            |1374.35799872   |25.981221535262723|\n",
      "|9773d8b1761e68e2801b20d8b69c841a|9            |6933.61232628   |186.34500231873673|\n",
      "+--------------------------------+-------------+----------------+------------------+\n",
      "\n"
     ]
    },
    {
     "name": "stderr",
     "output_type": "stream",
     "text": [
      "                                                                                \r"
     ]
    }
   ],
   "source": [
    "accounts = samples.groupBy(\"user_id\").agg(F.countDistinct(\"account_number\").alias(\"account_count\")).orderBy(F.desc(\"account_count\")).limit(20)\n",
    "ammounts = accounts.join(samples, \"user_id\", \"inner\") \\\n",
    "    .groupBy(\"user_id\") \\\n",
    "    .agg(F.sum(\"transaction_amount\").alias(\"sum_transactions\"),\n",
    "         F.stddev(\"transaction_amount\").alias(\"std_deviation\"))\n",
    "accounts.join(ammounts, 'user_id', 'inner').orderBy(F.desc(\"account_count\")).show(truncate=False)"
   ]
  },
  {
   "cell_type": "markdown",
   "metadata": {},
   "source": [
    "Checking transactions for user with the most transactions"
   ]
  },
  {
   "cell_type": "code",
   "execution_count": 11,
   "metadata": {},
   "outputs": [
    {
     "name": "stderr",
     "output_type": "stream",
     "text": [
      "                                                                                \r"
     ]
    },
    {
     "name": "stdout",
     "output_type": "stream",
     "text": [
      "+--------------------+--------------------+--------------------+-------------------+--------------------+--------------------+------------------+----------------+\n",
      "|         merchant_id|                 _id|          subsidiary|   transaction_date|      account_number|             user_id|transaction_amount|transaction_type|\n",
      "+--------------------+--------------------+--------------------+-------------------+--------------------+--------------------+------------------+----------------+\n",
      "|075d178871d8d4850...|2a797d11beb190624...|db413bbd87a3df94b...|2021-01-08 09:10:30|5946e4c935c965c4b...|8c292781ac3e59131...|      118.88910024|         CREDITO|\n",
      "|838a8fa992a4aa2fb...|84d44445c328f3255...|8c52a2d7745e37bce...|2021-01-14 04:27:51|b1d56a01b7cd5e3c6...|8c292781ac3e59131...|       59.44455012|         CREDITO|\n",
      "|838a8fa992a4aa2fb...|5d69e18742f6e6024...|ce9fcdc2a3b5e4f32...|2021-01-14 10:53:16|b1d56a01b7cd5e3c6...|8c292781ac3e59131...|       89.16682518|         CREDITO|\n",
      "|838a8fa992a4aa2fb...|6c7436bea08e28d52...|d4b31b123120a4eef...|2021-01-14 11:33:29|b1d56a01b7cd5e3c6...|8c292781ac3e59131...|      237.77820049|         CREDITO|\n",
      "|838a8fa992a4aa2fb...|ca01fe25bf00390ca...|dff70ce33784a932c...|2021-01-14 12:28:24|b1d56a01b7cd5e3c6...|8c292781ac3e59131...|      594.44550123|         CREDITO|\n",
      "|838a8fa992a4aa2fb...|d0afa29383aeb4227...|dff70ce33784a932c...|2021-01-15 05:01:08|b1d56a01b7cd5e3c6...|8c292781ac3e59131...|       59.44455012|         CREDITO|\n",
      "|838a8fa992a4aa2fb...|b5101e6282d634781...|d4b31b123120a4eef...|2021-01-15 08:51:36|b1d56a01b7cd5e3c6...|8c292781ac3e59131...|       35.66673007|         CREDITO|\n",
      "|838a8fa992a4aa2fb...|68dab02c76e1f46e9...|dff70ce33784a932c...|2021-01-16 08:46:37|b1d56a01b7cd5e3c6...|8c292781ac3e59131...|       59.44455012|         CREDITO|\n",
      "|838a8fa992a4aa2fb...|57391e3a09d134b03...|f0d981b37111a8f06...|2021-01-16 09:54:14|b1d56a01b7cd5e3c6...|8c292781ac3e59131...|       35.66673007|         CREDITO|\n",
      "|838a8fa992a4aa2fb...|57c0dc7aa9e158296...|dff70ce33784a932c...|2021-01-16 12:26:34|b1d56a01b7cd5e3c6...|8c292781ac3e59131...|      118.88910024|         CREDITO|\n",
      "|838a8fa992a4aa2fb...|362345e79b1ef02b7...|d4b621a24cc03e3f9...|2021-01-16 12:58:53|b1d56a01b7cd5e3c6...|8c292781ac3e59131...|       35.66673007|         CREDITO|\n",
      "|838a8fa992a4aa2fb...|667c4b380b9faf484...|d4b31b123120a4eef...|2021-01-17 06:23:49|b1d56a01b7cd5e3c6...|8c292781ac3e59131...|       59.44455012|         CREDITO|\n",
      "|838a8fa992a4aa2fb...|ab78afeefe13e45a4...|d4b31b123120a4eef...|2021-01-17 07:27:39|b1d56a01b7cd5e3c6...|8c292781ac3e59131...|       59.44455012|         CREDITO|\n",
      "|838a8fa992a4aa2fb...|de6d0e45e11f5eb43...|d9afc5e112ebd5b23...|2021-01-18 03:46:41|b1d56a01b7cd5e3c6...|8c292781ac3e59131...|      118.88910024|         CREDITO|\n",
      "|838a8fa992a4aa2fb...|00f00e69c6a568561...|d4b31b123120a4eef...|2021-01-18 04:47:01|b1d56a01b7cd5e3c6...|8c292781ac3e59131...|      118.88910024|         CREDITO|\n",
      "|838a8fa992a4aa2fb...|522a92d5fa9ce2d81...|dff70ce33784a932c...|2021-01-18 10:54:20|b1d56a01b7cd5e3c6...|8c292781ac3e59131...|      205.67814342|         CREDITO|\n",
      "|838a8fa992a4aa2fb...|19197f0738e3e534a...|d4b31b123120a4eef...|2021-01-18 12:19:19|b1d56a01b7cd5e3c6...|8c292781ac3e59131...|      118.88910024|         CREDITO|\n",
      "|838a8fa992a4aa2fb...|0372f10fd6283fce7...|d4b621a24cc03e3f9...|2021-01-19 07:18:38|b1d56a01b7cd5e3c6...|8c292781ac3e59131...|       71.33346014|         CREDITO|\n",
      "|075d178871d8d4850...|70555e0bca57a1bc4...|ae3bbbbecc69bc953...|2021-01-19 08:27:11|b1d56a01b7cd5e3c6...|8c292781ac3e59131...|      114.13353623|         CREDITO|\n",
      "|838a8fa992a4aa2fb...|2140cf87b4f8152db...|d4b31b123120a4eef...|2021-01-19 08:55:24|b1d56a01b7cd5e3c6...|8c292781ac3e59131...|      475.55640098|         CREDITO|\n",
      "+--------------------+--------------------+--------------------+-------------------+--------------------+--------------------+------------------+----------------+\n",
      "only showing top 20 rows\n",
      "\n"
     ]
    }
   ],
   "source": [
    "samples.filter(samples[\"user_id\"] == \"8c292781ac3e591312d7fc5b767687ca\").orderBy('transaction_date').show()"
   ]
  },
  {
   "cell_type": "markdown",
   "metadata": {},
   "source": [
    "Checking transaction_type unique values"
   ]
  },
  {
   "cell_type": "code",
   "execution_count": 12,
   "metadata": {},
   "outputs": [
    {
     "name": "stderr",
     "output_type": "stream",
     "text": [
      "[Stage 35:=================================================>      (14 + 2) / 16]\r"
     ]
    },
    {
     "name": "stdout",
     "output_type": "stream",
     "text": [
      "+----------------+\n",
      "|transaction_type|\n",
      "+----------------+\n",
      "|DEBITO          |\n",
      "|CREDITO         |\n",
      "+----------------+\n",
      "\n"
     ]
    },
    {
     "name": "stderr",
     "output_type": "stream",
     "text": [
      "                                                                                \r"
     ]
    }
   ],
   "source": [
    "samples.select(\"transaction_type\").distinct().show(truncate=False)"
   ]
  },
  {
   "cell_type": "markdown",
   "metadata": {},
   "source": [
    "Checking subsidiary distribution"
   ]
  },
  {
   "cell_type": "code",
   "execution_count": 13,
   "metadata": {},
   "outputs": [
    {
     "name": "stderr",
     "output_type": "stream",
     "text": [
      "[Stage 38:====================================================>   (15 + 1) / 16]\r"
     ]
    },
    {
     "name": "stdout",
     "output_type": "stream",
     "text": [
      "+--------------------------------+----------------+------------------+\n",
      "|subsidiary                      |transaction_year|total_transactions|\n",
      "+--------------------------------+----------------+------------------+\n",
      "|8c52a2d7745e37bcee79717300f796e3|2021            |22293285.26933247 |\n",
      "|d4b621a24cc03e3f92155a7e241fa1c3|2021            |18196560.97313392 |\n",
      "|f54e0b6b32831a6307361ed959903e76|2021            |18027608.57745139 |\n",
      "|3458b243beebecf55605ca649b6b2ea5|2021            |12223479.69223730 |\n",
      "|dff70ce33784a932ce4a7efc81a43863|2021            |11941222.46639275 |\n",
      "|fee20d2f0753125f11b4376da5dbad4c|2021            |9850216.26379212  |\n",
      "|464139dd69c67ebf50f2f946bc12513e|2021            |8400298.85851027  |\n",
      "|d4b31b123120a4eefd51ba95975f2ae4|2021            |7712461.85988958  |\n",
      "|7428212cf0193f799447ec0dfe53e4a0|2021            |5093246.51878560  |\n",
      "|4ecafb5dcecd6027257e8af4d9c82853|2021            |4801280.52566820  |\n",
      "|4af00427a95e40c71244a8c66ec00a4b|2021            |3917039.18579283  |\n",
      "|4f511a84e8c4b1c09991e0d876e880ce|2021            |3778990.03926208  |\n",
      "|23b6e598e195241b496b81d95652870e|2021            |3321095.68190512  |\n",
      "|ed34eb9d4aa3456412820f1dcca619a3|2021            |3313415.44602418  |\n",
      "|40d92864e9f2bfb038a41804045cd700|2021            |3306088.70663152  |\n",
      "|6d3dfadf4e1c47dfdf4f85943ef83167|2021            |3226079.51296613  |\n",
      "|fcaa99cc54849ca73f9610b5c4c5f6f6|2021            |3176538.42489674  |\n",
      "|32874117991a5bbf5e72d19347727f36|2021            |3070976.79277851  |\n",
      "|2e11454166d41ab418ed1ddd020b1037|2021            |3031654.64254076  |\n",
      "|61ca93b8511b23f84eba5b87d5279853|2021            |2989478.31457845  |\n",
      "+--------------------------------+----------------+------------------+\n",
      "only showing top 20 rows\n",
      "\n"
     ]
    },
    {
     "name": "stderr",
     "output_type": "stream",
     "text": [
      "                                                                                \r"
     ]
    }
   ],
   "source": [
    "samples.groupBy(\"subsidiary\", F.year(\"transaction_date\").alias(\"transaction_year\")).agg(F.sum(\"transaction_amount\").alias(\"total_transactions\")).orderBy(F.desc(\"total_transactions\")).show(truncate=False)"
   ]
  },
  {
   "cell_type": "markdown",
   "metadata": {},
   "source": [
    "Checking merchants distribution"
   ]
  },
  {
   "cell_type": "code",
   "execution_count": 14,
   "metadata": {},
   "outputs": [
    {
     "name": "stderr",
     "output_type": "stream",
     "text": [
      "[Stage 41:=================================================>      (14 + 2) / 16]\r"
     ]
    },
    {
     "name": "stdout",
     "output_type": "stream",
     "text": [
      "+--------------------------------+----------------+-------------------+\n",
      "|merchant_id                     |transaction_year|total_transactions |\n",
      "+--------------------------------+----------------+-------------------+\n",
      "|817d18cd3c31e40e9bff0566baae7758|2021            |3225043739.22018780|\n",
      "|075d178871d8d48502bf1f54887e52fe|2021            |550735204.98759165 |\n",
      "|838a8fa992a4aa2fb5a0cf8b15b63755|2021            |340173600.19185339 |\n",
      "|817d18cd3c31e40e9bff0566baae7758|2020            |10117.46243062     |\n",
      "|838a8fa992a4aa2fb5a0cf8b15b63755|2020            |4986.05430744      |\n",
      "+--------------------------------+----------------+-------------------+\n",
      "\n"
     ]
    },
    {
     "name": "stderr",
     "output_type": "stream",
     "text": [
      "                                                                                \r"
     ]
    }
   ],
   "source": [
    "samples.groupBy(\"merchant_id\", F.year(\"transaction_date\").alias(\"transaction_year\")).agg(F.sum(\"transaction_amount\").alias(\"total_transactions\")).orderBy(F.desc(\"total_transactions\")).show(truncate=False)"
   ]
  },
  {
   "cell_type": "code",
   "execution_count": 5,
   "metadata": {},
   "outputs": [],
   "source": [
    "spark.conf.set(\"spark.sql.legacy.timeParserPolicy\",\"LEGACY\")"
   ]
  },
  {
   "cell_type": "markdown",
   "metadata": {},
   "source": [
    "Checking merchants distribution along days of the week"
   ]
  },
  {
   "cell_type": "code",
   "execution_count": 16,
   "metadata": {},
   "outputs": [
    {
     "name": "stderr",
     "output_type": "stream",
     "text": [
      "[Stage 44:==========================================>             (12 + 4) / 16]\r"
     ]
    },
    {
     "name": "stdout",
     "output_type": "stream",
     "text": [
      "+-----------+--------------------------------+------------------+\n",
      "|day_of_week|merchant_id                     |total_amount      |\n",
      "+-----------+--------------------------------+------------------+\n",
      "|6          |817d18cd3c31e40e9bff0566baae7758|511639944.34732382|\n",
      "|5          |817d18cd3c31e40e9bff0566baae7758|510000748.98903125|\n",
      "|2          |817d18cd3c31e40e9bff0566baae7758|498828692.68367606|\n",
      "|4          |817d18cd3c31e40e9bff0566baae7758|479862825.74442169|\n",
      "|3          |817d18cd3c31e40e9bff0566baae7758|478057031.08982711|\n",
      "|1          |817d18cd3c31e40e9bff0566baae7758|450742807.19836309|\n",
      "|7          |817d18cd3c31e40e9bff0566baae7758|295921806.62997540|\n",
      "|2          |075d178871d8d48502bf1f54887e52fe|101500653.96417880|\n",
      "|3          |075d178871d8d48502bf1f54887e52fe|93823515.55129834 |\n",
      "|5          |075d178871d8d48502bf1f54887e52fe|88593515.06636584 |\n",
      "|4          |075d178871d8d48502bf1f54887e52fe|88097825.00550824 |\n",
      "|1          |075d178871d8d48502bf1f54887e52fe|86474062.18459486 |\n",
      "|6          |075d178871d8d48502bf1f54887e52fe|73014018.48960758 |\n",
      "|2          |838a8fa992a4aa2fb5a0cf8b15b63755|60780536.30793717 |\n",
      "|3          |838a8fa992a4aa2fb5a0cf8b15b63755|57265197.45037742 |\n",
      "|1          |838a8fa992a4aa2fb5a0cf8b15b63755|53250645.64579726 |\n",
      "|4          |838a8fa992a4aa2fb5a0cf8b15b63755|52982501.77101759 |\n",
      "|5          |838a8fa992a4aa2fb5a0cf8b15b63755|52063665.48132523 |\n",
      "|6          |838a8fa992a4aa2fb5a0cf8b15b63755|46682627.53095652 |\n",
      "|7          |075d178871d8d48502bf1f54887e52fe|19231614.72603799 |\n",
      "+-----------+--------------------------------+------------------+\n",
      "only showing top 20 rows\n",
      "\n"
     ]
    },
    {
     "name": "stderr",
     "output_type": "stream",
     "text": [
      "                                                                                \r"
     ]
    }
   ],
   "source": [
    "samples.withColumn(\"day_of_week\", F.date_format(\"transaction_date\", \"u\").cast(\"int\")).groupBy(\"day_of_week\", \"merchant_id\").agg(F.sum(\"transaction_amount\").alias(\"total_amount\")).orderBy(F.desc(\"total_amount\")).show(truncate=False)"
   ]
  },
  {
   "cell_type": "markdown",
   "metadata": {},
   "source": [
    "Checking total sum of transactions over days of the week"
   ]
  },
  {
   "cell_type": "code",
   "execution_count": 6,
   "metadata": {},
   "outputs": [
    {
     "name": "stderr",
     "output_type": "stream",
     "text": [
      "[Stage 2:=========================================================(16 + 0) / 16]\r"
     ]
    },
    {
     "name": "stdout",
     "output_type": "stream",
     "text": [
      "+-----------+------------------+\n",
      "|day_of_week|total_amount      |\n",
      "+-----------+------------------+\n",
      "|2          |661109882.95579203|\n",
      "|5          |650657929.53672232|\n",
      "|6          |631336590.36788792|\n",
      "|3          |629145744.09150287|\n",
      "|4          |620943152.52094752|\n",
      "|1          |590467515.02875521|\n",
      "|7          |332306833.41476303|\n",
      "+-----------+------------------+\n",
      "\n"
     ]
    },
    {
     "name": "stderr",
     "output_type": "stream",
     "text": [
      "                                                                                \r"
     ]
    }
   ],
   "source": [
    "samples.withColumn(\"day_of_week\", F.date_format(\"transaction_date\", \"u\").cast(\"int\")).groupBy(\"day_of_week\").agg(F.sum(\"transaction_amount\").alias(\"total_amount\")).orderBy(F.desc(\"total_amount\")).show(truncate=False)"
   ]
  },
  {
   "cell_type": "markdown",
   "metadata": {},
   "source": [
    "Checking information shape"
   ]
  },
  {
   "cell_type": "code",
   "execution_count": 4,
   "metadata": {},
   "outputs": [
    {
     "name": "stderr",
     "output_type": "stream",
     "text": [
      "[Stage 2:==========================================>              (12 + 4) / 16]\r"
     ]
    },
    {
     "name": "stdout",
     "output_type": "stream",
     "text": [
      "Sample's shape: (21516918,8)\n"
     ]
    },
    {
     "name": "stderr",
     "output_type": "stream",
     "text": [
      "                                                                                \r"
     ]
    }
   ],
   "source": [
    "num_columns = len(samples.columns)\n",
    "num_rows = samples.count()\n",
    "\n",
    "print(f\"Sample's shape: ({num_rows},{num_columns})\")"
   ]
  },
  {
   "cell_type": "markdown",
   "metadata": {},
   "source": [
    "Checking number of duplicates"
   ]
  },
  {
   "cell_type": "code",
   "execution_count": 5,
   "metadata": {},
   "outputs": [
    {
     "name": "stderr",
     "output_type": "stream",
     "text": [
      "[Stage 6:====================================================>  (192 + 8) / 200]\r"
     ]
    },
    {
     "name": "stdout",
     "output_type": "stream",
     "text": [
      "There a total of 11 duplicate samples\n"
     ]
    },
    {
     "name": "stderr",
     "output_type": "stream",
     "text": [
      "                                                                                \r"
     ]
    }
   ],
   "source": [
    "samples = samples.dropDuplicates().cache()\n",
    "num_unique = samples.count()\n",
    "if num_rows > num_unique:\n",
    "    diff = num_rows - num_unique\n",
    "    print(f\"There a total of {diff} duplicate samples\")"
   ]
  },
  {
   "cell_type": "code",
   "execution_count": 6,
   "metadata": {},
   "outputs": [
    {
     "name": "stderr",
     "output_type": "stream",
     "text": [
      "                                                                                \r"
     ]
    },
    {
     "name": "stdout",
     "output_type": "stream",
     "text": [
      "+--------------------+--------------------+--------------------+-------------------+--------------------+--------------------+------------------+----------------+\n",
      "|         merchant_id|                 _id|          subsidiary|   transaction_date|      account_number|             user_id|transaction_amount|transaction_type|\n",
      "+--------------------+--------------------+--------------------+-------------------+--------------------+--------------------+------------------+----------------+\n",
      "|075d178871d8d4850...|0ccf1fe8dd3333e6e...|00015fd77a0f4d869...|2021-06-18 07:08:03|a79ff75955445c687...|ebc8d3ae01b8334f3...|      356.66730074|          DEBITO|\n",
      "|075d178871d8d4850...|b86f53170772d5b15...|00015fd77a0f4d869...|2021-05-05 06:28:04|c790394d677140db4...|05ee34549ddebf8c2...|      350.72284572|          DEBITO|\n",
      "|075d178871d8d4850...|cfe6f6fb72e5d5ad2...|00015fd77a0f4d869...|2021-07-09 05:48:27|c6a712474dc3e8c59...|de5f51b22e24411f3...|       35.66673007|         CREDITO|\n",
      "|075d178871d8d4850...|1f1190b01fe1f0b17...|000ed83916ade2efe...|2021-08-20 05:50:20|4003c9f0520125294...|349b24e0ade2a7c88...|      546.88986113|         CREDITO|\n",
      "|075d178871d8d4850...|2fa67dabe5d51e6fd...|000ed83916ade2efe...|2021-09-02 07:29:06|ca60a1c5d96f636e2...|21b02a7b885bdcb94...|      142.66692029|         CREDITO|\n",
      "+--------------------+--------------------+--------------------+-------------------+--------------------+--------------------+------------------+----------------+\n",
      "only showing top 5 rows\n",
      "\n"
     ]
    }
   ],
   "source": [
    "samples.show(5)"
   ]
  },
  {
   "cell_type": "markdown",
   "metadata": {},
   "source": [
    "Creating flag column and chaking same information this time only for fragmented transactions"
   ]
  },
  {
   "cell_type": "code",
   "execution_count": 5,
   "metadata": {},
   "outputs": [],
   "source": [
    "from pyspark.sql.functions import col, unix_timestamp, lag, when\n",
    "from pyspark.sql.window import Window"
   ]
  },
  {
   "cell_type": "code",
   "execution_count": 6,
   "metadata": {},
   "outputs": [],
   "source": [
    "window_spec = Window().partitionBy(\"user_id\").orderBy(\"transaction_date\")"
   ]
  },
  {
   "cell_type": "code",
   "execution_count": 7,
   "metadata": {},
   "outputs": [],
   "source": [
    "samples = samples.withColumn(\"time_diff\",unix_timestamp(\"transaction_date\") - unix_timestamp(lag(\"transaction_date\").over(window_spec)))"
   ]
  },
  {
   "cell_type": "code",
   "execution_count": 8,
   "metadata": {},
   "outputs": [],
   "source": [
    "samples = samples.withColumn(\"fraudulent\",when((col(\"time_diff\") < 86400) | (lag(\"time_diff\").over(window_spec) < 86400), 1).otherwise(0)).cache()"
   ]
  },
  {
   "cell_type": "code",
   "execution_count": 9,
   "metadata": {},
   "outputs": [],
   "source": [
    "samples = samples.where(samples[\"fraudulent\"] == 1).cache()"
   ]
  },
  {
   "cell_type": "code",
   "execution_count": 10,
   "metadata": {},
   "outputs": [
    {
     "name": "stderr",
     "output_type": "stream",
     "text": [
      "                                                                                \r"
     ]
    },
    {
     "name": "stdout",
     "output_type": "stream",
     "text": [
      "+--------------------+--------------------+--------------------+-------------------+--------------------+--------------------+------------------+----------------+---------+----------+\n",
      "|         merchant_id|                 _id|          subsidiary|   transaction_date|      account_number|             user_id|transaction_amount|transaction_type|time_diff|fraudulent|\n",
      "+--------------------+--------------------+--------------------+-------------------+--------------------+--------------------+------------------+----------------+---------+----------+\n",
      "|838a8fa992a4aa2fb...|5d69e18742f6e6024...|ce9fcdc2a3b5e4f32...|2021-01-14 10:53:16|b1d56a01b7cd5e3c6...|8c292781ac3e59131...|       89.16682518|         CREDITO|    23125|         1|\n",
      "|838a8fa992a4aa2fb...|6c7436bea08e28d52...|d4b31b123120a4eef...|2021-01-14 11:33:29|b1d56a01b7cd5e3c6...|8c292781ac3e59131...|      237.77820049|         CREDITO|     2413|         1|\n",
      "|838a8fa992a4aa2fb...|ca01fe25bf00390ca...|dff70ce33784a932c...|2021-01-14 12:28:24|b1d56a01b7cd5e3c6...|8c292781ac3e59131...|      594.44550123|         CREDITO|     3295|         1|\n",
      "|838a8fa992a4aa2fb...|d0afa29383aeb4227...|dff70ce33784a932c...|2021-01-15 05:01:08|b1d56a01b7cd5e3c6...|8c292781ac3e59131...|       59.44455012|         CREDITO|    59564|         1|\n",
      "|838a8fa992a4aa2fb...|b5101e6282d634781...|d4b31b123120a4eef...|2021-01-15 08:51:36|b1d56a01b7cd5e3c6...|8c292781ac3e59131...|       35.66673007|         CREDITO|    13828|         1|\n",
      "|838a8fa992a4aa2fb...|68dab02c76e1f46e9...|dff70ce33784a932c...|2021-01-16 08:46:37|b1d56a01b7cd5e3c6...|8c292781ac3e59131...|       59.44455012|         CREDITO|    86101|         1|\n",
      "|838a8fa992a4aa2fb...|57391e3a09d134b03...|f0d981b37111a8f06...|2021-01-16 09:54:14|b1d56a01b7cd5e3c6...|8c292781ac3e59131...|       35.66673007|         CREDITO|     4057|         1|\n",
      "|838a8fa992a4aa2fb...|57c0dc7aa9e158296...|dff70ce33784a932c...|2021-01-16 12:26:34|b1d56a01b7cd5e3c6...|8c292781ac3e59131...|      118.88910024|         CREDITO|     9140|         1|\n",
      "|838a8fa992a4aa2fb...|362345e79b1ef02b7...|d4b621a24cc03e3f9...|2021-01-16 12:58:53|b1d56a01b7cd5e3c6...|8c292781ac3e59131...|       35.66673007|         CREDITO|     1939|         1|\n",
      "|838a8fa992a4aa2fb...|667c4b380b9faf484...|d4b31b123120a4eef...|2021-01-17 06:23:49|b1d56a01b7cd5e3c6...|8c292781ac3e59131...|       59.44455012|         CREDITO|    62696|         1|\n",
      "|838a8fa992a4aa2fb...|ab78afeefe13e45a4...|d4b31b123120a4eef...|2021-01-17 07:27:39|b1d56a01b7cd5e3c6...|8c292781ac3e59131...|       59.44455012|         CREDITO|     3830|         1|\n",
      "|838a8fa992a4aa2fb...|de6d0e45e11f5eb43...|d9afc5e112ebd5b23...|2021-01-18 03:46:41|b1d56a01b7cd5e3c6...|8c292781ac3e59131...|      118.88910024|         CREDITO|    73142|         1|\n",
      "|838a8fa992a4aa2fb...|00f00e69c6a568561...|d4b31b123120a4eef...|2021-01-18 04:47:01|b1d56a01b7cd5e3c6...|8c292781ac3e59131...|      118.88910024|         CREDITO|     3620|         1|\n",
      "|838a8fa992a4aa2fb...|522a92d5fa9ce2d81...|dff70ce33784a932c...|2021-01-18 10:54:20|b1d56a01b7cd5e3c6...|8c292781ac3e59131...|      205.67814342|         CREDITO|    22039|         1|\n",
      "|838a8fa992a4aa2fb...|19197f0738e3e534a...|d4b31b123120a4eef...|2021-01-18 12:19:19|b1d56a01b7cd5e3c6...|8c292781ac3e59131...|      118.88910024|         CREDITO|     5099|         1|\n",
      "|838a8fa992a4aa2fb...|0372f10fd6283fce7...|d4b621a24cc03e3f9...|2021-01-19 07:18:38|b1d56a01b7cd5e3c6...|8c292781ac3e59131...|       71.33346014|         CREDITO|    68359|         1|\n",
      "|075d178871d8d4850...|70555e0bca57a1bc4...|ae3bbbbecc69bc953...|2021-01-19 08:27:11|b1d56a01b7cd5e3c6...|8c292781ac3e59131...|      114.13353623|         CREDITO|     4113|         1|\n",
      "|838a8fa992a4aa2fb...|2140cf87b4f8152db...|d4b31b123120a4eef...|2021-01-19 08:55:24|b1d56a01b7cd5e3c6...|8c292781ac3e59131...|      475.55640098|         CREDITO|     1693|         1|\n",
      "|838a8fa992a4aa2fb...|de746fa5fca214aa6...|ce9fcdc2a3b5e4f32...|2021-01-19 10:37:28|b1d56a01b7cd5e3c6...|8c292781ac3e59131...|      118.88910024|         CREDITO|     6124|         1|\n",
      "|838a8fa992a4aa2fb...|a956366ab06c2365b...|8c52a2d7745e37bce...|2021-01-19 13:40:49|b1d56a01b7cd5e3c6...|8c292781ac3e59131...|      118.88910024|         CREDITO|    11001|         1|\n",
      "+--------------------+--------------------+--------------------+-------------------+--------------------+--------------------+------------------+----------------+---------+----------+\n",
      "only showing top 20 rows\n",
      "\n"
     ]
    }
   ],
   "source": [
    "samples.filter(samples[\"user_id\"] == \"8c292781ac3e591312d7fc5b767687ca\").orderBy('transaction_date').show()"
   ]
  },
  {
   "cell_type": "code",
   "execution_count": 11,
   "metadata": {},
   "outputs": [
    {
     "name": "stderr",
     "output_type": "stream",
     "text": [
      "23/08/09 20:49:31 WARN MemoryStore: Not enough space to cache rdd_25_134 in memory! (computed 2.7 MiB so far)\n",
      "23/08/09 20:49:31 WARN MemoryStore: Not enough space to cache rdd_25_139 in memory! (computed 2.9 MiB so far)\n",
      "23/08/09 20:49:31 WARN MemoryStore: Not enough space to cache rdd_25_143 in memory! (computed 2.7 MiB so far)\n",
      "23/08/09 20:49:34 WARN MemoryStore: Failed to reserve initial memory threshold of 1024.0 KiB for computing block rdd_25_7 in memory.\n",
      "23/08/09 20:49:34 WARN MemoryStore: Not enough space to cache rdd_25_7 in memory! (computed 384.0 B so far)\n",
      "23/08/09 20:49:37 WARN MemoryStore: Not enough space to cache rdd_25_90 in memory! (computed 2.8 MiB so far)\n",
      "23/08/09 20:49:38 WARN MemoryStore: Not enough space to cache rdd_25_115 in memory! (computed 2.7 MiB so far)\n",
      "23/08/09 20:49:42 WARN MemoryStore: Not enough space to cache rdd_25_10 in memory! (computed 2.8 MiB so far)\n",
      "23/08/09 20:49:42 WARN MemoryStore: Not enough space to cache rdd_25_14 in memory! (computed 2.7 MiB so far)\n",
      "23/08/09 20:49:42 WARN MemoryStore: Not enough space to cache rdd_25_12 in memory! (computed 2.7 MiB so far)\n",
      "23/08/09 20:49:42 WARN MemoryStore: Not enough space to cache rdd_25_8 in memory! (computed 2.7 MiB so far)\n",
      "23/08/09 20:49:42 WARN MemoryStore: Not enough space to cache rdd_25_21 in memory! (computed 2.7 MiB so far)\n",
      "23/08/09 20:49:42 WARN MemoryStore: Not enough space to cache rdd_25_20 in memory! (computed 2.7 MiB so far)\n",
      "23/08/09 20:49:42 WARN MemoryStore: Not enough space to cache rdd_25_16 in memory! (computed 2.8 MiB so far)\n",
      "23/08/09 20:49:42 WARN MemoryStore: Not enough space to cache rdd_25_22 in memory! (computed 2.9 MiB so far)\n",
      "23/08/09 20:49:42 WARN MemoryStore: Not enough space to cache rdd_25_19 in memory! (computed 2.8 MiB so far)\n",
      "23/08/09 20:49:42 WARN MemoryStore: Not enough space to cache rdd_25_18 in memory! (computed 3.0 MiB so far)\n",
      "23/08/09 20:49:43 WARN MemoryStore: Not enough space to cache rdd_25_23 in memory! (computed 2.7 MiB so far)\n",
      "23/08/09 20:49:43 WARN MemoryStore: Not enough space to cache rdd_25_28 in memory! (computed 2.7 MiB so far)\n",
      "23/08/09 20:49:43 WARN MemoryStore: Not enough space to cache rdd_25_24 in memory! (computed 3.0 MiB so far)\n",
      "23/08/09 20:49:43 WARN MemoryStore: Not enough space to cache rdd_25_25 in memory! (computed 2.7 MiB so far)\n",
      "23/08/09 20:49:43 WARN MemoryStore: Not enough space to cache rdd_25_29 in memory! (computed 2.7 MiB so far)\n",
      "23/08/09 20:49:44 WARN MemoryStore: Not enough space to cache rdd_25_39 in memory! (computed 2.7 MiB so far)\n",
      "23/08/09 20:49:44 WARN MemoryStore: Not enough space to cache rdd_25_36 in memory! (computed 2.8 MiB so far)\n",
      "23/08/09 20:49:44 WARN MemoryStore: Not enough space to cache rdd_25_34 in memory! (computed 2.7 MiB so far)\n",
      "23/08/09 20:49:44 WARN MemoryStore: Not enough space to cache rdd_25_38 in memory! (computed 2.8 MiB so far)\n",
      "23/08/09 20:49:44 WARN MemoryStore: Not enough space to cache rdd_25_37 in memory! (computed 2.6 MiB so far)\n",
      "23/08/09 20:49:44 WARN MemoryStore: Not enough space to cache rdd_25_32 in memory! (computed 2.8 MiB so far)\n",
      "23/08/09 20:49:44 WARN MemoryStore: Not enough space to cache rdd_25_35 in memory! (computed 2.8 MiB so far)\n",
      "23/08/09 20:49:44 WARN MemoryStore: Not enough space to cache rdd_25_44 in memory! (computed 2.8 MiB so far)\n",
      "23/08/09 20:49:44 WARN MemoryStore: Not enough space to cache rdd_25_45 in memory! (computed 2.8 MiB so far)\n",
      "23/08/09 20:49:44 WARN MemoryStore: Not enough space to cache rdd_25_46 in memory! (computed 2.9 MiB so far)\n",
      "23/08/09 20:49:44 WARN MemoryStore: Not enough space to cache rdd_25_50 in memory! (computed 2.9 MiB so far)\n",
      "23/08/09 20:49:44 WARN MemoryStore: Not enough space to cache rdd_25_48 in memory! (computed 2.8 MiB so far)\n",
      "23/08/09 20:49:44 WARN MemoryStore: Not enough space to cache rdd_25_52 in memory! (computed 2.8 MiB so far)\n",
      "23/08/09 20:49:44 WARN MemoryStore: Not enough space to cache rdd_25_51 in memory! (computed 2.7 MiB so far)\n",
      "23/08/09 20:49:44 WARN MemoryStore: Not enough space to cache rdd_25_55 in memory! (computed 2.6 MiB so far)\n",
      "23/08/09 20:49:44 WARN MemoryStore: Not enough space to cache rdd_25_49 in memory! (computed 2.9 MiB so far)\n",
      "23/08/09 20:49:44 WARN MemoryStore: Not enough space to cache rdd_25_68 in memory! (computed 2.6 MiB so far)\n",
      "23/08/09 20:49:44 WARN MemoryStore: Not enough space to cache rdd_25_69 in memory! (computed 2.9 MiB so far)\n",
      "23/08/09 20:49:44 WARN MemoryStore: Not enough space to cache rdd_25_67 in memory! (computed 2.8 MiB so far)\n",
      "23/08/09 20:49:44 WARN MemoryStore: Not enough space to cache rdd_25_65 in memory! (computed 2.7 MiB so far)\n",
      "23/08/09 20:49:44 WARN MemoryStore: Not enough space to cache rdd_25_63 in memory! (computed 2.8 MiB so far)\n",
      "23/08/09 20:49:44 WARN MemoryStore: Not enough space to cache rdd_25_73 in memory! (computed 2.9 MiB so far)\n",
      "23/08/09 20:49:44 WARN MemoryStore: Failed to reserve initial memory threshold of 1024.0 KiB for computing block rdd_25_77 in memory.\n",
      "23/08/09 20:49:44 WARN MemoryStore: Not enough space to cache rdd_25_77 in memory! (computed 384.0 B so far)\n",
      "23/08/09 20:49:44 WARN MemoryStore: Failed to reserve initial memory threshold of 1024.0 KiB for computing block rdd_25_86 in memory.\n",
      "23/08/09 20:49:44 WARN MemoryStore: Not enough space to cache rdd_25_80 in memory! (computed 2.7 MiB so far)\n",
      "23/08/09 20:49:44 WARN MemoryStore: Not enough space to cache rdd_25_82 in memory! (computed 2.9 MiB so far)\n",
      "23/08/09 20:49:44 WARN MemoryStore: Not enough space to cache rdd_25_79 in memory! (computed 2.8 MiB so far)\n",
      "23/08/09 20:49:44 WARN MemoryStore: Not enough space to cache rdd_25_81 in memory! (computed 3.0 MiB so far)\n",
      "23/08/09 20:49:44 WARN MemoryStore: Not enough space to cache rdd_25_83 in memory! (computed 2.8 MiB so far)\n",
      "23/08/09 20:49:44 WARN MemoryStore: Not enough space to cache rdd_25_84 in memory! (computed 2.9 MiB so far)\n",
      "23/08/09 20:49:44 WARN MemoryStore: Not enough space to cache rdd_25_86 in memory! (computed 384.0 B so far)\n",
      "23/08/09 20:49:44 WARN MemoryStore: Not enough space to cache rdd_25_89 in memory! (computed 2.8 MiB so far)\n",
      "23/08/09 20:49:44 WARN MemoryStore: Not enough space to cache rdd_25_90 in memory! (computed 2.8 MiB so far)\n",
      "23/08/09 20:49:44 WARN MemoryStore: Not enough space to cache rdd_25_88 in memory! (computed 2.7 MiB so far)\n",
      "23/08/09 20:49:44 WARN MemoryStore: Not enough space to cache rdd_25_87 in memory! (computed 2.6 MiB so far)\n",
      "23/08/09 20:49:44 WARN MemoryStore: Not enough space to cache rdd_25_91 in memory! (computed 2.8 MiB so far)\n",
      "23/08/09 20:49:44 WARN MemoryStore: Failed to reserve initial memory threshold of 1024.0 KiB for computing block rdd_25_93 in memory.\n",
      "23/08/09 20:49:44 WARN MemoryStore: Not enough space to cache rdd_25_93 in memory! (computed 384.0 B so far)\n",
      "23/08/09 20:49:44 WARN MemoryStore: Not enough space to cache rdd_25_96 in memory! (computed 3.0 MiB so far)\n",
      "23/08/09 20:49:44 WARN MemoryStore: Not enough space to cache rdd_25_100 in memory! (computed 2.8 MiB so far)\n",
      "23/08/09 20:49:44 WARN MemoryStore: Not enough space to cache rdd_25_101 in memory! (computed 2.7 MiB so far)\n",
      "23/08/09 20:49:44 WARN MemoryStore: Not enough space to cache rdd_25_98 in memory! (computed 3.0 MiB so far)\n",
      "23/08/09 20:49:44 WARN MemoryStore: Not enough space to cache rdd_25_94 in memory! (computed 2.9 MiB so far)\n",
      "23/08/09 20:49:44 WARN MemoryStore: Not enough space to cache rdd_25_99 in memory! (computed 2.7 MiB so far)\n",
      "23/08/09 20:49:44 WARN MemoryStore: Not enough space to cache rdd_25_106 in memory! (computed 2.8 MiB so far)\n",
      "23/08/09 20:49:44 WARN MemoryStore: Not enough space to cache rdd_25_105 in memory! (computed 2.9 MiB so far)\n",
      "23/08/09 20:49:44 WARN MemoryStore: Not enough space to cache rdd_25_103 in memory! (computed 2.8 MiB so far)\n",
      "23/08/09 20:49:44 WARN MemoryStore: Not enough space to cache rdd_25_107 in memory! (computed 2.8 MiB so far)\n",
      "23/08/09 20:49:44 WARN MemoryStore: Not enough space to cache rdd_25_104 in memory! (computed 2.8 MiB so far)\n",
      "23/08/09 20:49:44 WARN MemoryStore: Not enough space to cache rdd_25_108 in memory! (computed 2.9 MiB so far)\n",
      "23/08/09 20:49:44 WARN MemoryStore: Not enough space to cache rdd_25_110 in memory! (computed 2.8 MiB so far)\n",
      "23/08/09 20:49:44 WARN MemoryStore: Not enough space to cache rdd_25_111 in memory! (computed 2.8 MiB so far)\n",
      "23/08/09 20:49:44 WARN MemoryStore: Not enough space to cache rdd_25_113 in memory! (computed 2.7 MiB so far)\n",
      "23/08/09 20:49:44 WARN MemoryStore: Not enough space to cache rdd_25_112 in memory! (computed 3.0 MiB so far)\n",
      "23/08/09 20:49:44 WARN MemoryStore: Not enough space to cache rdd_25_114 in memory! (computed 2.8 MiB so far)\n",
      "23/08/09 20:49:44 WARN MemoryStore: Not enough space to cache rdd_25_121 in memory! (computed 3.1 MiB so far)\n",
      "23/08/09 20:49:44 WARN MemoryStore: Not enough space to cache rdd_25_125 in memory! (computed 2.9 MiB so far)\n",
      "                                                                                \r"
     ]
    },
    {
     "name": "stdout",
     "output_type": "stream",
     "text": [
      "+--------------------------------+-------------+----------------+------------------+\n",
      "|user_id                         |account_count|sum_transactions|std_deviation     |\n",
      "+--------------------------------+-------------+----------------+------------------+\n",
      "|8c292781ac3e591312d7fc5b767687ca|36           |52475.27106616  |312.07761869093906|\n",
      "|6ba67792fbc4e375fa69ed6df0e44854|24           |54537.99695582  |455.8318585950875 |\n",
      "|328550eea11d2441ab258a1f07581dc8|22           |5640.09891523   |93.4755689489242  |\n",
      "|a9fbdb2d32424dbac15edc0b17c12e23|16           |10331.46281136  |179.88379422520907|\n",
      "|7cac676a8d21f4fb7a66d4966dd3a12c|13           |89395.67956901  |380.43454266565084|\n",
      "|f0e7c4ab7966fcb88c1834057a4e9538|11           |4812.63077727   |131.37769223055886|\n",
      "|a71f0b8fc6267a4687430bea42310468|11           |10700.01902214  |229.8234893855068 |\n",
      "|16100156a44d52a0ab40b2661dd648cc|11           |1489.68042590   |49.18184116848666 |\n",
      "|94cf8a83c7f7d2b2d33450d9ca233ef6|10           |11476.36484656  |362.38824320400306|\n",
      "|5e674596af22a66e826bf15b2a363cce|10           |38109.80595508  |9.665285592035593 |\n",
      "|ac107913e0e0e1c0f8545cfd216d2aa9|9            |6351.05573497   |284.5978302590679 |\n",
      "|be14ec758eeebe23d51338528f01ec4e|9            |4708.00836972   |92.81104771923212 |\n",
      "|5761bc095a32fe0b1cfc550d68ce0a1a|9            |18679.85543063  |858.8628608352344 |\n",
      "|0ff36dad15dc31bed02c840d1c777963|8            |28198.85985172  |166.50686775471115|\n",
      "|6daf3c8da4f38d4a0926aac3c7696029|8            |2163.78162421   |109.15989894580015|\n",
      "|e77fc30bb3bec8bf45a35b535b292047|8            |24565.87287114  |8.261446043835114 |\n",
      "|751285b6ec72e34a306faa44d9b07774|8            |12603.79850505  |90.96339199407866 |\n",
      "|e996e08fb1f7ee5f259a2031a931073d|8            |13508.53623212  |6.423223372007477 |\n",
      "|d3720205290ca7444d216167dd4cb0b1|7            |33984.61215805  |5.499905296990016 |\n",
      "|7e67d1ffa566eb1ac632f815f9afd84c|7            |10272.01826047  |100.85587961290759|\n",
      "+--------------------------------+-------------+----------------+------------------+\n",
      "\n"
     ]
    }
   ],
   "source": [
    "accounts = samples.groupBy(\"user_id\").agg(F.countDistinct(\"account_number\").alias(\"account_count\")).orderBy(F.desc(\"account_count\")).limit(20)\n",
    "ammounts = accounts.join(samples, \"user_id\", \"inner\") \\\n",
    "    .groupBy(\"user_id\") \\\n",
    "    .agg(F.sum(\"transaction_amount\").alias(\"sum_transactions\"),\n",
    "         F.stddev(\"transaction_amount\").alias(\"std_deviation\"))\n",
    "accounts.join(ammounts, 'user_id', 'inner').orderBy(F.desc(\"account_count\")).show(truncate=False)"
   ]
  },
  {
   "cell_type": "code",
   "execution_count": 12,
   "metadata": {},
   "outputs": [
    {
     "name": "stderr",
     "output_type": "stream",
     "text": [
      "23/08/09 20:49:47 WARN MemoryStore: Not enough space to cache rdd_25_14 in memory! (computed 2.7 MiB so far)\n",
      "23/08/09 20:49:47 WARN MemoryStore: Not enough space to cache rdd_25_8 in memory! (computed 2.7 MiB so far)\n",
      "23/08/09 20:49:48 WARN MemoryStore: Not enough space to cache rdd_25_23 in memory! (computed 2.7 MiB so far)\n",
      "23/08/09 20:49:48 WARN MemoryStore: Not enough space to cache rdd_25_20 in memory! (computed 2.7 MiB so far)\n",
      "23/08/09 20:49:48 WARN MemoryStore: Not enough space to cache rdd_25_30 in memory! (computed 2.9 MiB so far)\n",
      "23/08/09 20:49:48 WARN MemoryStore: Not enough space to cache rdd_25_34 in memory! (computed 2.7 MiB so far)\n",
      "23/08/09 20:49:48 WARN MemoryStore: Not enough space to cache rdd_25_37 in memory! (computed 2.6 MiB so far)\n",
      "23/08/09 20:49:49 WARN MemoryStore: Not enough space to cache rdd_25_45 in memory! (computed 2.8 MiB so far)\n",
      "23/08/09 20:49:49 WARN MemoryStore: Not enough space to cache rdd_25_46 in memory! (computed 2.9 MiB so far)\n",
      "23/08/09 20:49:49 WARN MemoryStore: Not enough space to cache rdd_25_52 in memory! (computed 2.8 MiB so far)\n",
      "23/08/09 20:49:50 WARN MemoryStore: Not enough space to cache rdd_25_57 in memory! (computed 3.0 MiB so far)\n",
      "23/08/09 20:49:50 WARN MemoryStore: Not enough space to cache rdd_25_56 in memory! (computed 3.0 MiB so far)\n",
      "23/08/09 20:49:50 WARN MemoryStore: Not enough space to cache rdd_25_61 in memory! (computed 3.0 MiB so far)\n",
      "23/08/09 20:49:50 WARN MemoryStore: Not enough space to cache rdd_25_59 in memory! (computed 2.7 MiB so far)\n",
      "23/08/09 20:49:50 WARN MemoryStore: Not enough space to cache rdd_25_60 in memory! (computed 3.1 MiB so far)\n",
      "23/08/09 20:49:50 WARN MemoryStore: Not enough space to cache rdd_25_73 in memory! (computed 2.9 MiB so far)\n",
      "23/08/09 20:49:50 WARN MemoryStore: Not enough space to cache rdd_25_77 in memory! (computed 2.7 MiB so far)\n",
      "23/08/09 20:49:50 WARN MemoryStore: Not enough space to cache rdd_25_81 in memory! (computed 3.0 MiB so far)\n",
      "23/08/09 20:49:50 WARN MemoryStore: Not enough space to cache rdd_25_86 in memory! (computed 2.6 MiB so far)\n",
      "23/08/09 20:49:51 WARN MemoryStore: Not enough space to cache rdd_25_95 in memory! (computed 2.8 MiB so far)\n",
      "23/08/09 20:49:51 WARN MemoryStore: Not enough space to cache rdd_25_105 in memory! (computed 2.9 MiB so far)\n",
      "23/08/09 20:49:51 WARN MemoryStore: Not enough space to cache rdd_25_106 in memory! (computed 2.8 MiB so far)\n",
      "23/08/09 20:49:51 WARN MemoryStore: Not enough space to cache rdd_25_122 in memory! (computed 2.7 MiB so far)\n",
      "23/08/09 20:49:51 WARN MemoryStore: Not enough space to cache rdd_25_121 in memory! (computed 3.1 MiB so far)\n",
      "23/08/09 20:49:51 WARN MemoryStore: Not enough space to cache rdd_25_123 in memory! (computed 2.7 MiB so far)\n",
      "23/08/09 20:49:51 WARN MemoryStore: Failed to reserve initial memory threshold of 1024.0 KiB for computing block rdd_25_125 in memory.\n",
      "23/08/09 20:49:51 WARN MemoryStore: Not enough space to cache rdd_25_125 in memory! (computed 384.0 B so far)\n",
      "23/08/09 20:49:51 WARN MemoryStore: Failed to reserve initial memory threshold of 1024.0 KiB for computing block rdd_25_124 in memory.\n",
      "23/08/09 20:49:51 WARN MemoryStore: Not enough space to cache rdd_25_124 in memory! (computed 384.0 B so far)\n",
      "23/08/09 20:49:51 WARN MemoryStore: Failed to reserve initial memory threshold of 1024.0 KiB for computing block rdd_25_133 in memory.\n",
      "23/08/09 20:49:51 WARN MemoryStore: Failed to reserve initial memory threshold of 1024.0 KiB for computing block rdd_25_132 in memory.\n",
      "23/08/09 20:49:51 WARN MemoryStore: Not enough space to cache rdd_25_133 in memory! (computed 384.0 B so far)\n",
      "23/08/09 20:49:51 WARN MemoryStore: Not enough space to cache rdd_25_132 in memory! (computed 384.0 B so far)\n",
      "23/08/09 20:49:51 WARN MemoryStore: Not enough space to cache rdd_25_138 in memory! (computed 2.7 MiB so far)\n",
      "23/08/09 20:49:51 WARN MemoryStore: Not enough space to cache rdd_25_139 in memory! (computed 2.9 MiB so far)\n",
      "23/08/09 20:49:51 WARN MemoryStore: Failed to reserve initial memory threshold of 1024.0 KiB for computing block rdd_25_141 in memory.\n",
      "23/08/09 20:49:52 WARN MemoryStore: Not enough space to cache rdd_25_141 in memory! (computed 384.0 B so far)\n",
      "23/08/09 20:49:52 WARN MemoryStore: Not enough space to cache rdd_25_145 in memory! (computed 2.7 MiB so far)\n",
      "23/08/09 20:49:52 WARN MemoryStore: Failed to reserve initial memory threshold of 1024.0 KiB for computing block rdd_25_146 in memory.\n",
      "23/08/09 20:49:52 WARN MemoryStore: Not enough space to cache rdd_25_146 in memory! (computed 384.0 B so far)\n",
      "23/08/09 20:49:52 WARN MemoryStore: Not enough space to cache rdd_25_147 in memory! (computed 2.7 MiB so far)\n",
      "23/08/09 20:49:52 WARN MemoryStore: Failed to reserve initial memory threshold of 1024.0 KiB for computing block rdd_25_154 in memory.\n",
      "23/08/09 20:49:52 WARN MemoryStore: Failed to reserve initial memory threshold of 1024.0 KiB for computing block rdd_25_153 in memory.\n",
      "23/08/09 20:49:52 WARN MemoryStore: Not enough space to cache rdd_25_153 in memory! (computed 384.0 B so far)\n",
      "23/08/09 20:49:52 WARN MemoryStore: Not enough space to cache rdd_25_154 in memory! (computed 384.0 B so far)\n",
      "23/08/09 20:49:52 WARN MemoryStore: Not enough space to cache rdd_25_158 in memory! (computed 2.8 MiB so far)\n",
      "23/08/09 20:49:52 WARN MemoryStore: Not enough space to cache rdd_25_160 in memory! (computed 2.9 MiB so far)\n",
      "23/08/09 20:49:52 WARN MemoryStore: Not enough space to cache rdd_25_157 in memory! (computed 2.9 MiB so far)\n",
      "23/08/09 20:49:52 WARN MemoryStore: Not enough space to cache rdd_25_159 in memory! (computed 3.0 MiB so far)\n",
      "23/08/09 20:49:52 WARN MemoryStore: Not enough space to cache rdd_25_155 in memory! (computed 2.7 MiB so far)\n",
      "23/08/09 20:49:53 WARN MemoryStore: Not enough space to cache rdd_25_176 in memory! (computed 2.5 MiB so far)\n",
      "23/08/09 20:49:53 WARN MemoryStore: Not enough space to cache rdd_25_175 in memory! (computed 2.7 MiB so far)\n",
      "23/08/09 20:49:53 WARN MemoryStore: Not enough space to cache rdd_25_173 in memory! (computed 2.6 MiB so far)\n",
      "23/08/09 20:49:53 WARN MemoryStore: Not enough space to cache rdd_25_184 in memory! (computed 2.8 MiB so far)\n",
      "23/08/09 20:49:53 WARN MemoryStore: Not enough space to cache rdd_25_183 in memory! (computed 2.8 MiB so far)\n",
      "23/08/09 20:49:53 WARN MemoryStore: Failed to reserve initial memory threshold of 1024.0 KiB for computing block rdd_25_191 in memory.\n",
      "23/08/09 20:49:53 WARN MemoryStore: Not enough space to cache rdd_25_191 in memory! (computed 384.0 B so far)\n",
      "23/08/09 20:49:54 WARN MemoryStore: Not enough space to cache rdd_25_199 in memory! (computed 2.7 MiB so far)\n",
      "[Stage 12:=====================================================>(197 + 3) / 200]\r"
     ]
    },
    {
     "name": "stdout",
     "output_type": "stream",
     "text": [
      "+--------------------------------+----------------+-------------------+\n",
      "|merchant_id                     |transaction_year|total_transactions |\n",
      "+--------------------------------+----------------+-------------------+\n",
      "|817d18cd3c31e40e9bff0566baae7758|2021            |1056439984.75858185|\n",
      "|075d178871d8d48502bf1f54887e52fe|2021            |101918185.82453112 |\n",
      "|838a8fa992a4aa2fb5a0cf8b15b63755|2021            |91375366.24313956  |\n",
      "|838a8fa992a4aa2fb5a0cf8b15b63755|2020            |2743.09373133      |\n",
      "|817d18cd3c31e40e9bff0566baae7758|2020            |142.66692028       |\n",
      "+--------------------------------+----------------+-------------------+\n",
      "\n"
     ]
    },
    {
     "name": "stderr",
     "output_type": "stream",
     "text": [
      "                                                                                \r"
     ]
    }
   ],
   "source": [
    "samples.groupBy(\"merchant_id\", F.year(\"transaction_date\").alias(\"transaction_year\")).agg(F.sum(\"transaction_amount\").alias(\"total_transactions\")).show(truncate=False)"
   ]
  },
  {
   "cell_type": "code",
   "execution_count": 13,
   "metadata": {},
   "outputs": [
    {
     "name": "stderr",
     "output_type": "stream",
     "text": [
      "23/08/09 20:49:56 WARN MemoryStore: Not enough space to cache rdd_25_4 in memory! (computed 2.6 MiB so far)\n",
      "23/08/09 20:49:56 WARN MemoryStore: Not enough space to cache rdd_25_6 in memory! (computed 2.8 MiB so far)\n",
      "23/08/09 20:49:56 WARN MemoryStore: Not enough space to cache rdd_25_7 in memory! (computed 2.7 MiB so far)\n",
      "23/08/09 20:49:56 WARN MemoryStore: Not enough space to cache rdd_25_1 in memory! (computed 2.6 MiB so far)\n",
      "23/08/09 20:49:56 WARN MemoryStore: Not enough space to cache rdd_25_0 in memory! (computed 2.7 MiB so far)\n",
      "23/08/09 20:49:56 WARN MemoryStore: Not enough space to cache rdd_25_9 in memory! (computed 2.9 MiB so far)\n",
      "23/08/09 20:49:56 WARN MemoryStore: Not enough space to cache rdd_25_12 in memory! (computed 2.7 MiB so far)\n",
      "23/08/09 20:49:57 WARN MemoryStore: Not enough space to cache rdd_25_19 in memory! (computed 2.8 MiB so far)\n",
      "23/08/09 20:49:57 WARN MemoryStore: Not enough space to cache rdd_25_20 in memory! (computed 2.7 MiB so far)\n",
      "23/08/09 20:49:57 WARN MemoryStore: Failed to reserve initial memory threshold of 1024.0 KiB for computing block rdd_25_21 in memory.\n",
      "23/08/09 20:49:57 WARN MemoryStore: Failed to reserve initial memory threshold of 1024.0 KiB for computing block rdd_25_23 in memory.\n",
      "23/08/09 20:49:57 WARN MemoryStore: Not enough space to cache rdd_25_21 in memory! (computed 384.0 B so far)\n",
      "23/08/09 20:49:57 WARN MemoryStore: Failed to reserve initial memory threshold of 1024.0 KiB for computing block rdd_25_22 in memory.\n",
      "23/08/09 20:49:57 WARN MemoryStore: Not enough space to cache rdd_25_23 in memory! (computed 384.0 B so far)\n",
      "23/08/09 20:49:57 WARN MemoryStore: Not enough space to cache rdd_25_22 in memory! (computed 384.0 B so far)\n",
      "23/08/09 20:49:57 WARN MemoryStore: Not enough space to cache rdd_25_31 in memory! (computed 2.7 MiB so far)\n",
      "23/08/09 20:49:57 WARN MemoryStore: Not enough space to cache rdd_25_27 in memory! (computed 2.8 MiB so far)\n",
      "23/08/09 20:49:58 WARN MemoryStore: Not enough space to cache rdd_25_33 in memory! (computed 2.8 MiB so far)\n",
      "23/08/09 20:49:58 WARN MemoryStore: Not enough space to cache rdd_25_40 in memory! (computed 2.8 MiB so far)\n",
      "23/08/09 20:49:59 WARN MemoryStore: Not enough space to cache rdd_25_54 in memory! (computed 2.8 MiB so far)\n",
      "23/08/09 20:49:59 WARN MemoryStore: Not enough space to cache rdd_25_60 in memory! (computed 3.1 MiB so far)\n",
      "23/08/09 20:49:59 WARN MemoryStore: Not enough space to cache rdd_25_56 in memory! (computed 3.0 MiB so far)\n",
      "23/08/09 20:50:00 WARN MemoryStore: Not enough space to cache rdd_25_67 in memory! (computed 2.8 MiB so far)\n",
      "23/08/09 20:50:00 WARN MemoryStore: Not enough space to cache rdd_25_75 in memory! (computed 2.9 MiB so far)\n",
      "23/08/09 20:50:01 WARN MemoryStore: Not enough space to cache rdd_25_80 in memory! (computed 2.7 MiB so far)\n",
      "23/08/09 20:50:01 WARN MemoryStore: Not enough space to cache rdd_25_82 in memory! (computed 2.9 MiB so far)\n",
      "23/08/09 20:50:01 WARN MemoryStore: Not enough space to cache rdd_25_83 in memory! (computed 2.8 MiB so far)\n",
      "23/08/09 20:50:01 WARN MemoryStore: Not enough space to cache rdd_25_92 in memory! (computed 2.7 MiB so far)\n",
      "23/08/09 20:50:01 WARN MemoryStore: Not enough space to cache rdd_25_90 in memory! (computed 2.8 MiB so far)\n",
      "23/08/09 20:50:01 WARN MemoryStore: Not enough space to cache rdd_25_93 in memory! (computed 2.9 MiB so far)\n",
      "23/08/09 20:50:01 WARN MemoryStore: Not enough space to cache rdd_25_89 in memory! (computed 2.8 MiB so far)\n",
      "23/08/09 20:50:01 WARN MemoryStore: Not enough space to cache rdd_25_88 in memory! (computed 2.7 MiB so far)\n",
      "23/08/09 20:50:01 WARN MemoryStore: Not enough space to cache rdd_25_91 in memory! (computed 2.8 MiB so far)\n",
      "23/08/09 20:50:01 WARN MemoryStore: Not enough space to cache rdd_25_94 in memory! (computed 2.9 MiB so far)\n",
      "23/08/09 20:50:01 WARN MemoryStore: Not enough space to cache rdd_25_101 in memory! (computed 2.7 MiB so far)\n",
      "23/08/09 20:50:02 WARN MemoryStore: Failed to reserve initial memory threshold of 1024.0 KiB for computing block rdd_25_108 in memory.\n",
      "23/08/09 20:50:02 WARN MemoryStore: Not enough space to cache rdd_25_108 in memory! (computed 384.0 B so far)\n",
      "23/08/09 20:50:02 WARN MemoryStore: Not enough space to cache rdd_25_110 in memory! (computed 2.8 MiB so far)\n",
      "23/08/09 20:50:02 WARN MemoryStore: Failed to reserve initial memory threshold of 1024.0 KiB for computing block rdd_25_116 in memory.\n",
      "23/08/09 20:50:02 WARN MemoryStore: Failed to reserve initial memory threshold of 1024.0 KiB for computing block rdd_25_118 in memory.\n",
      "23/08/09 20:50:02 WARN MemoryStore: Not enough space to cache rdd_25_116 in memory! (computed 384.0 B so far)\n",
      "23/08/09 20:50:02 WARN MemoryStore: Failed to reserve initial memory threshold of 1024.0 KiB for computing block rdd_25_117 in memory.\n",
      "23/08/09 20:50:02 WARN MemoryStore: Not enough space to cache rdd_25_118 in memory! (computed 384.0 B so far)\n",
      "23/08/09 20:50:02 WARN MemoryStore: Not enough space to cache rdd_25_117 in memory! (computed 384.0 B so far)\n",
      "23/08/09 20:50:02 WARN MemoryStore: Not enough space to cache rdd_25_120 in memory! (computed 2.8 MiB so far)\n",
      "23/08/09 20:50:02 WARN MemoryStore: Failed to reserve initial memory threshold of 1024.0 KiB for computing block rdd_25_124 in memory.\n",
      "23/08/09 20:50:02 WARN MemoryStore: Not enough space to cache rdd_25_126 in memory! (computed 2.8 MiB so far)\n",
      "23/08/09 20:50:02 WARN MemoryStore: Not enough space to cache rdd_25_125 in memory! (computed 2.9 MiB so far)\n",
      "23/08/09 20:50:02 WARN MemoryStore: Not enough space to cache rdd_25_124 in memory! (computed 384.0 B so far)\n",
      "23/08/09 20:50:03 WARN MemoryStore: Not enough space to cache rdd_25_127 in memory! (computed 2.8 MiB so far)\n",
      "23/08/09 20:50:03 WARN MemoryStore: Not enough space to cache rdd_25_140 in memory! (computed 2.8 MiB so far)\n",
      "23/08/09 20:50:03 WARN MemoryStore: Not enough space to cache rdd_25_142 in memory! (computed 2.9 MiB so far)\n",
      "23/08/09 20:50:04 WARN MemoryStore: Not enough space to cache rdd_25_145 in memory! (computed 2.7 MiB so far)\n",
      "23/08/09 20:50:04 WARN MemoryStore: Not enough space to cache rdd_25_143 in memory! (computed 2.7 MiB so far)\n",
      "23/08/09 20:50:04 WARN MemoryStore: Not enough space to cache rdd_25_150 in memory! (computed 2.8 MiB so far)\n",
      "23/08/09 20:50:04 WARN MemoryStore: Not enough space to cache rdd_25_157 in memory! (computed 2.9 MiB so far)\n",
      "23/08/09 20:50:04 WARN MemoryStore: Not enough space to cache rdd_25_158 in memory! (computed 2.8 MiB so far)\n",
      "23/08/09 20:50:04 WARN MemoryStore: Not enough space to cache rdd_25_161 in memory! (computed 2.9 MiB so far)\n",
      "23/08/09 20:50:05 WARN MemoryStore: Not enough space to cache rdd_25_172 in memory! (computed 3.0 MiB so far)\n",
      "23/08/09 20:50:05 WARN MemoryStore: Not enough space to cache rdd_25_184 in memory! (computed 2.8 MiB so far)\n",
      "23/08/09 20:50:05 WARN MemoryStore: Not enough space to cache rdd_25_185 in memory! (computed 3.0 MiB so far)\n",
      "23/08/09 20:50:05 WARN MemoryStore: Not enough space to cache rdd_25_183 in memory! (computed 2.8 MiB so far)\n",
      "23/08/09 20:50:05 WARN MemoryStore: Not enough space to cache rdd_25_186 in memory! (computed 2.9 MiB so far)\n",
      "23/08/09 20:50:05 WARN MemoryStore: Failed to reserve initial memory threshold of 1024.0 KiB for computing block rdd_25_190 in memory.\n",
      "23/08/09 20:50:05 WARN MemoryStore: Not enough space to cache rdd_25_190 in memory! (computed 384.0 B so far)\n",
      "23/08/09 20:50:05 WARN MemoryStore: Not enough space to cache rdd_25_189 in memory! (computed 2.7 MiB so far)\n",
      "23/08/09 20:50:06 WARN MemoryStore: Not enough space to cache rdd_25_197 in memory! (computed 2.7 MiB so far)\n",
      "23/08/09 20:50:06 WARN MemoryStore: Not enough space to cache rdd_25_196 in memory! (computed 3.0 MiB so far)\n",
      "23/08/09 20:50:06 WARN MemoryStore: Not enough space to cache rdd_25_192 in memory! (computed 2.8 MiB so far)\n",
      "                                                                                \r"
     ]
    },
    {
     "name": "stdout",
     "output_type": "stream",
     "text": [
      "+--------------------------------+----------------+------------------+\n",
      "|subsidiary                      |transaction_year|total_transactions|\n",
      "+--------------------------------+----------------+------------------+\n",
      "|f54e0b6b32831a6307361ed959903e76|2021            |8890792.33527857  |\n",
      "|8c52a2d7745e37bcee79717300f796e3|2021            |6803649.54860358  |\n",
      "|d4b621a24cc03e3f92155a7e241fa1c3|2021            |6103533.20474100  |\n",
      "|dff70ce33784a932ce4a7efc81a43863|2021            |5116042.10600490  |\n",
      "|3458b243beebecf55605ca649b6b2ea5|2021            |2787199.79426710  |\n",
      "|d4b31b123120a4eefd51ba95975f2ae4|2021            |2428375.54545818  |\n",
      "|fee20d2f0753125f11b4376da5dbad4c|2021            |2309214.81234861  |\n",
      "|4ecafb5dcecd6027257e8af4d9c82853|2021            |1997835.86985502  |\n",
      "|464139dd69c67ebf50f2f946bc12513e|2021            |1778381.89792112  |\n",
      "|4af00427a95e40c71244a8c66ec00a4b|2021            |1595634.39221993  |\n",
      "|23b6e598e195241b496b81d95652870e|2021            |1543335.07702331  |\n",
      "|b38bdc27d2299bc11e6c454af63b09bf|2021            |1349438.84343033  |\n",
      "|ed34eb9d4aa3456412820f1dcca619a3|2021            |1348618.50863759  |\n",
      "|4f511a84e8c4b1c09991e0d876e880ce|2021            |1288292.49679810  |\n",
      "|fcaa99cc54849ca73f9610b5c4c5f6f6|2021            |1241285.42893377  |\n",
      "|b664f86c12eefef895b0c75874976dc4|2021            |1167312.63076326  |\n",
      "|d80583eb95d421ef7d42739ec1d33bed|2021            |1165267.73824294  |\n",
      "|f850abf4b7520e77485647e168ac1d0b|2021            |1154068.38500010  |\n",
      "|61ca93b8511b23f84eba5b87d5279853|2021            |1123478.21950177  |\n",
      "|dc082cf1a4eb0ad0637fe0d2b986bee4|2021            |1109187.74965108  |\n",
      "+--------------------------------+----------------+------------------+\n",
      "only showing top 20 rows\n",
      "\n"
     ]
    }
   ],
   "source": [
    "samples.groupBy(\"subsidiary\", F.year(\"transaction_date\").alias(\"transaction_year\")).agg(F.sum(\"transaction_amount\").alias(\"total_transactions\")).orderBy(F.desc(\"total_transactions\")).show(truncate=False)"
   ]
  },
  {
   "cell_type": "code",
   "execution_count": 14,
   "metadata": {},
   "outputs": [],
   "source": [
    "spark.conf.set(\"spark.sql.legacy.timeParserPolicy\",\"LEGACY\")"
   ]
  },
  {
   "cell_type": "code",
   "execution_count": 15,
   "metadata": {},
   "outputs": [
    {
     "name": "stderr",
     "output_type": "stream",
     "text": [
      "23/08/09 20:50:09 WARN MemoryStore: Not enough space to cache rdd_25_7 in memory! (computed 2.7 MiB so far)\n",
      "23/08/09 20:50:09 WARN MemoryStore: Not enough space to cache rdd_25_2 in memory! (computed 2.6 MiB so far)\n",
      "23/08/09 20:50:09 WARN MemoryStore: Not enough space to cache rdd_25_13 in memory! (computed 2.8 MiB so far)\n",
      "23/08/09 20:50:10 WARN MemoryStore: Not enough space to cache rdd_25_19 in memory! (computed 2.8 MiB so far)\n",
      "23/08/09 20:50:10 WARN MemoryStore: Not enough space to cache rdd_25_24 in memory! (computed 3.0 MiB so far)\n",
      "23/08/09 20:50:10 WARN MemoryStore: Not enough space to cache rdd_25_30 in memory! (computed 2.9 MiB so far)\n",
      "23/08/09 20:50:10 WARN MemoryStore: Not enough space to cache rdd_25_45 in memory! (computed 2.8 MiB so far)\n",
      "23/08/09 20:50:10 WARN MemoryStore: Not enough space to cache rdd_25_43 in memory! (computed 2.8 MiB so far)\n",
      "23/08/09 20:50:11 WARN MemoryStore: Not enough space to cache rdd_25_56 in memory! (computed 3.0 MiB so far)\n",
      "23/08/09 20:50:11 WARN MemoryStore: Not enough space to cache rdd_25_62 in memory! (computed 2.7 MiB so far)\n",
      "23/08/09 20:50:12 WARN MemoryStore: Not enough space to cache rdd_25_75 in memory! (computed 2.9 MiB so far)\n",
      "23/08/09 20:50:12 WARN MemoryStore: Not enough space to cache rdd_25_72 in memory! (computed 2.8 MiB so far)\n",
      "23/08/09 20:50:12 WARN MemoryStore: Not enough space to cache rdd_25_89 in memory! (computed 2.8 MiB so far)\n",
      "23/08/09 20:50:12 WARN MemoryStore: Not enough space to cache rdd_25_92 in memory! (computed 2.7 MiB so far)\n",
      "23/08/09 20:50:12 WARN MemoryStore: Not enough space to cache rdd_25_101 in memory! (computed 2.7 MiB so far)\n",
      "23/08/09 20:50:12 WARN MemoryStore: Failed to reserve initial memory threshold of 1024.0 KiB for computing block rdd_25_109 in memory.\n",
      "23/08/09 20:50:12 WARN MemoryStore: Failed to reserve initial memory threshold of 1024.0 KiB for computing block rdd_25_110 in memory.\n",
      "23/08/09 20:50:12 WARN MemoryStore: Not enough space to cache rdd_25_105 in memory! (computed 2.9 MiB so far)\n",
      "23/08/09 20:50:12 WARN MemoryStore: Not enough space to cache rdd_25_109 in memory! (computed 384.0 B so far)\n",
      "23/08/09 20:50:12 WARN MemoryStore: Not enough space to cache rdd_25_110 in memory! (computed 384.0 B so far)\n",
      "23/08/09 20:50:12 WARN MemoryStore: Not enough space to cache rdd_25_114 in memory! (computed 2.8 MiB so far)\n",
      "23/08/09 20:50:13 WARN MemoryStore: Not enough space to cache rdd_25_121 in memory! (computed 3.1 MiB so far)\n",
      "23/08/09 20:50:13 WARN MemoryStore: Not enough space to cache rdd_25_128 in memory! (computed 2.8 MiB so far)\n",
      "23/08/09 20:50:13 WARN MemoryStore: Not enough space to cache rdd_25_140 in memory! (computed 2.8 MiB so far)\n",
      "23/08/09 20:50:13 WARN MemoryStore: Failed to reserve initial memory threshold of 1024.0 KiB for computing block rdd_25_151 in memory.\n",
      "23/08/09 20:50:13 WARN MemoryStore: Not enough space to cache rdd_25_151 in memory! (computed 384.0 B so far)\n",
      "23/08/09 20:50:13 WARN MemoryStore: Not enough space to cache rdd_25_149 in memory! (computed 2.6 MiB so far)\n",
      "23/08/09 20:50:13 WARN MemoryStore: Not enough space to cache rdd_25_152 in memory! (computed 2.7 MiB so far)\n",
      "23/08/09 20:50:13 WARN MemoryStore: Not enough space to cache rdd_25_156 in memory! (computed 2.7 MiB so far)\n",
      "23/08/09 20:50:13 WARN MemoryStore: Not enough space to cache rdd_25_158 in memory! (computed 2.8 MiB so far)\n",
      "23/08/09 20:50:14 WARN MemoryStore: Not enough space to cache rdd_25_169 in memory! (computed 2.8 MiB so far)\n",
      "23/08/09 20:50:14 WARN MemoryStore: Not enough space to cache rdd_25_180 in memory! (computed 2.6 MiB so far)\n",
      "23/08/09 20:50:14 WARN MemoryStore: Not enough space to cache rdd_25_182 in memory! (computed 2.8 MiB so far)\n",
      "23/08/09 20:50:14 WARN MemoryStore: Not enough space to cache rdd_25_184 in memory! (computed 2.8 MiB so far)\n",
      "23/08/09 20:50:14 WARN MemoryStore: Not enough space to cache rdd_25_185 in memory! (computed 3.0 MiB so far)\n",
      "23/08/09 20:50:14 WARN MemoryStore: Not enough space to cache rdd_25_186 in memory! (computed 2.9 MiB so far)\n",
      "23/08/09 20:50:14 WARN MemoryStore: Not enough space to cache rdd_25_192 in memory! (computed 2.8 MiB so far)\n",
      "23/08/09 20:50:14 WARN MemoryStore: Not enough space to cache rdd_25_195 in memory! (computed 2.8 MiB so far)\n",
      "23/08/09 20:50:14 WARN MemoryStore: Not enough space to cache rdd_25_191 in memory! (computed 3.0 MiB so far)\n",
      "[Stage 22:====================================================> (196 + 4) / 200]\r"
     ]
    },
    {
     "name": "stdout",
     "output_type": "stream",
     "text": [
      "+-----------+------------------+\n",
      "|day_of_week|total_amount      |\n",
      "+-----------+------------------+\n",
      "|5          |200417772.89751891|\n",
      "|2          |199312059.24311286|\n",
      "|3          |193446611.65787820|\n",
      "|6          |192640704.31164829|\n",
      "|4          |192451290.38153017|\n",
      "|1          |173534984.15091172|\n",
      "|7          |97932999.94430399 |\n",
      "+-----------+------------------+\n",
      "\n"
     ]
    },
    {
     "name": "stderr",
     "output_type": "stream",
     "text": [
      "                                                                                \r"
     ]
    }
   ],
   "source": [
    "samples.withColumn(\"day_of_week\", F.date_format(\"transaction_date\", \"u\").cast(\"int\")).groupBy(\"day_of_week\").agg(F.sum(\"transaction_amount\").alias(\"total_amount\")).orderBy(F.desc(\"total_amount\")).show(truncate=False)"
   ]
  },
  {
   "cell_type": "code",
   "execution_count": 16,
   "metadata": {},
   "outputs": [
    {
     "name": "stderr",
     "output_type": "stream",
     "text": [
      "23/08/09 20:50:16 WARN MemoryStore: Not enough space to cache rdd_25_7 in memory! (computed 2.7 MiB so far)\n",
      "23/08/09 20:50:16 WARN MemoryStore: Not enough space to cache rdd_25_5 in memory! (computed 2.8 MiB so far)\n",
      "23/08/09 20:50:16 WARN MemoryStore: Not enough space to cache rdd_25_4 in memory! (computed 2.6 MiB so far)\n",
      "23/08/09 20:50:16 WARN MemoryStore: Not enough space to cache rdd_25_2 in memory! (computed 2.6 MiB so far)\n",
      "23/08/09 20:50:16 WARN MemoryStore: Not enough space to cache rdd_25_1 in memory! (computed 2.6 MiB so far)\n",
      "23/08/09 20:50:16 WARN MemoryStore: Not enough space to cache rdd_25_6 in memory! (computed 2.8 MiB so far)\n",
      "23/08/09 20:50:16 WARN MemoryStore: Not enough space to cache rdd_25_3 in memory! (computed 2.9 MiB so far)\n",
      "23/08/09 20:50:16 WARN MemoryStore: Not enough space to cache rdd_25_0 in memory! (computed 2.7 MiB so far)\n",
      "23/08/09 20:50:17 WARN MemoryStore: Failed to reserve initial memory threshold of 1024.0 KiB for computing block rdd_25_23 in memory.\n",
      "23/08/09 20:50:17 WARN MemoryStore: Not enough space to cache rdd_25_22 in memory! (computed 2.9 MiB so far)\n",
      "23/08/09 20:50:17 WARN MemoryStore: Not enough space to cache rdd_25_23 in memory! (computed 384.0 B so far)\n",
      "23/08/09 20:50:17 WARN MemoryStore: Not enough space to cache rdd_25_29 in memory! (computed 2.7 MiB so far)\n",
      "23/08/09 20:50:17 WARN MemoryStore: Not enough space to cache rdd_25_32 in memory! (computed 2.8 MiB so far)\n",
      "23/08/09 20:50:17 WARN MemoryStore: Not enough space to cache rdd_25_47 in memory! (computed 2.8 MiB so far)\n",
      "23/08/09 20:50:18 WARN MemoryStore: Not enough space to cache rdd_25_55 in memory! (computed 2.6 MiB so far)\n",
      "23/08/09 20:50:18 WARN MemoryStore: Not enough space to cache rdd_25_57 in memory! (computed 3.0 MiB so far)\n",
      "23/08/09 20:50:18 WARN MemoryStore: Not enough space to cache rdd_25_69 in memory! (computed 2.9 MiB so far)\n",
      "23/08/09 20:50:19 WARN MemoryStore: Not enough space to cache rdd_25_75 in memory! (computed 2.9 MiB so far)\n",
      "23/08/09 20:50:19 WARN MemoryStore: Not enough space to cache rdd_25_80 in memory! (computed 2.7 MiB so far)\n",
      "23/08/09 20:50:19 WARN MemoryStore: Not enough space to cache rdd_25_89 in memory! (computed 2.8 MiB so far)\n",
      "23/08/09 20:50:19 WARN MemoryStore: Failed to reserve initial memory threshold of 1024.0 KiB for computing block rdd_25_103 in memory.\n",
      "23/08/09 20:50:19 WARN MemoryStore: Failed to reserve initial memory threshold of 1024.0 KiB for computing block rdd_25_102 in memory.\n",
      "23/08/09 20:50:19 WARN MemoryStore: Not enough space to cache rdd_25_103 in memory! (computed 384.0 B so far)\n",
      "23/08/09 20:50:19 WARN MemoryStore: Not enough space to cache rdd_25_102 in memory! (computed 384.0 B so far)\n",
      "23/08/09 20:50:19 WARN MemoryStore: Not enough space to cache rdd_25_109 in memory! (computed 2.8 MiB so far)\n",
      "23/08/09 20:50:19 WARN MemoryStore: Not enough space to cache rdd_25_108 in memory! (computed 2.9 MiB so far)\n",
      "23/08/09 20:50:19 WARN MemoryStore: Not enough space to cache rdd_25_111 in memory! (computed 2.8 MiB so far)\n",
      "23/08/09 20:50:19 WARN MemoryStore: Not enough space to cache rdd_25_116 in memory! (computed 2.8 MiB so far)\n",
      "23/08/09 20:50:20 WARN MemoryStore: Not enough space to cache rdd_25_124 in memory! (computed 2.9 MiB so far)\n",
      "23/08/09 20:50:20 WARN MemoryStore: Not enough space to cache rdd_25_126 in memory! (computed 2.8 MiB so far)\n",
      "23/08/09 20:50:20 WARN MemoryStore: Not enough space to cache rdd_25_125 in memory! (computed 2.9 MiB so far)\n",
      "23/08/09 20:50:20 WARN MemoryStore: Not enough space to cache rdd_25_140 in memory! (computed 2.8 MiB so far)\n",
      "23/08/09 20:50:20 WARN MemoryStore: Not enough space to cache rdd_25_136 in memory! (computed 2.8 MiB so far)\n",
      "23/08/09 20:50:20 WARN MemoryStore: Not enough space to cache rdd_25_158 in memory! (computed 2.8 MiB so far)\n",
      "23/08/09 20:50:21 WARN MemoryStore: Failed to reserve initial memory threshold of 1024.0 KiB for computing block rdd_25_166 in memory.\n",
      "23/08/09 20:50:21 WARN MemoryStore: Not enough space to cache rdd_25_166 in memory! (computed 384.0 B so far)\n",
      "23/08/09 20:50:21 WARN MemoryStore: Not enough space to cache rdd_25_172 in memory! (computed 3.0 MiB so far)\n",
      "23/08/09 20:50:21 WARN MemoryStore: Failed to reserve initial memory threshold of 1024.0 KiB for computing block rdd_25_174 in memory.\n",
      "23/08/09 20:50:21 WARN MemoryStore: Not enough space to cache rdd_25_174 in memory! (computed 384.0 B so far)\n",
      "23/08/09 20:50:21 WARN MemoryStore: Not enough space to cache rdd_25_181 in memory! (computed 2.7 MiB so far)\n",
      "23/08/09 20:50:21 WARN MemoryStore: Not enough space to cache rdd_25_183 in memory! (computed 2.8 MiB so far)\n",
      "23/08/09 20:50:21 WARN MemoryStore: Not enough space to cache rdd_25_185 in memory! (computed 3.0 MiB so far)\n",
      "23/08/09 20:50:21 WARN MemoryStore: Failed to reserve initial memory threshold of 1024.0 KiB for computing block rdd_25_187 in memory.\n",
      "23/08/09 20:50:21 WARN MemoryStore: Not enough space to cache rdd_25_188 in memory! (computed 2.7 MiB so far)\n",
      "23/08/09 20:50:22 WARN MemoryStore: Not enough space to cache rdd_25_187 in memory! (computed 384.0 B so far)\n",
      "[Stage 27:===================================================>  (191 + 8) / 200]\r"
     ]
    },
    {
     "name": "stdout",
     "output_type": "stream",
     "text": [
      "+-----------+--------------------------------+------------------+\n",
      "|day_of_week|merchant_id                     |total_amount      |\n",
      "+-----------+--------------------------------+------------------+\n",
      "|5          |817d18cd3c31e40e9bff0566baae7758|169367747.76119812|\n",
      "|6          |817d18cd3c31e40e9bff0566baae7758|166396768.59048266|\n",
      "|2          |817d18cd3c31e40e9bff0566baae7758|164481857.51982079|\n",
      "|4          |817d18cd3c31e40e9bff0566baae7758|161776001.04270479|\n",
      "|3          |817d18cd3c31e40e9bff0566baae7758|160566114.22519479|\n",
      "|1          |817d18cd3c31e40e9bff0566baae7758|144842162.82733766|\n",
      "|7          |817d18cd3c31e40e9bff0566baae7758|89009475.45876332 |\n",
      "|2          |075d178871d8d48502bf1f54887e52fe|18587560.70191732 |\n",
      "|3          |075d178871d8d48502bf1f54887e52fe|17550301.93743669 |\n",
      "|5          |075d178871d8d48502bf1f54887e52fe|16876837.60299148 |\n",
      "|4          |075d178871d8d48502bf1f54887e52fe|16434496.81452908 |\n",
      "|2          |838a8fa992a4aa2fb5a0cf8b15b63755|16242641.02137475 |\n",
      "|3          |838a8fa992a4aa2fb5a0cf8b15b63755|15330195.49524672 |\n",
      "|1          |075d178871d8d48502bf1f54887e52fe|15186310.15035564 |\n",
      "|4          |838a8fa992a4aa2fb5a0cf8b15b63755|14240792.52429630 |\n",
      "|5          |838a8fa992a4aa2fb5a0cf8b15b63755|14173187.53332931 |\n",
      "|6          |075d178871d8d48502bf1f54887e52fe|13674121.59583010 |\n",
      "|1          |838a8fa992a4aa2fb5a0cf8b15b63755|13506511.17321842 |\n",
      "|6          |838a8fa992a4aa2fb5a0cf8b15b63755|12569814.12533553 |\n",
      "|7          |838a8fa992a4aa2fb5a0cf8b15b63755|5314967.46406986  |\n",
      "+-----------+--------------------------------+------------------+\n",
      "only showing top 20 rows\n",
      "\n"
     ]
    },
    {
     "name": "stderr",
     "output_type": "stream",
     "text": [
      "                                                                                \r"
     ]
    }
   ],
   "source": [
    "samples.withColumn(\"day_of_week\", F.date_format(\"transaction_date\", \"u\").cast(\"int\")).groupBy(\"day_of_week\", \"merchant_id\").agg(F.sum(\"transaction_amount\").alias(\"total_amount\")).orderBy(F.desc(\"total_amount\")).show(truncate=False)"
   ]
  },
  {
   "cell_type": "code",
   "execution_count": 17,
   "metadata": {},
   "outputs": [
    {
     "name": "stderr",
     "output_type": "stream",
     "text": [
      "23/08/09 20:50:23 WARN MemoryStore: Not enough space to cache rdd_25_3 in memory! (computed 2.9 MiB so far)\n",
      "23/08/09 20:50:23 WARN MemoryStore: Not enough space to cache rdd_25_5 in memory! (computed 2.8 MiB so far)\n",
      "23/08/09 20:50:23 WARN MemoryStore: Not enough space to cache rdd_25_2 in memory! (computed 2.6 MiB so far)\n",
      "23/08/09 20:50:24 WARN MemoryStore: Not enough space to cache rdd_25_9 in memory! (computed 2.9 MiB so far)\n",
      "23/08/09 20:50:24 WARN MemoryStore: Not enough space to cache rdd_25_17 in memory! (computed 2.8 MiB so far)\n",
      "23/08/09 20:50:24 WARN MemoryStore: Not enough space to cache rdd_25_16 in memory! (computed 2.8 MiB so far)\n",
      "23/08/09 20:50:24 WARN MemoryStore: Not enough space to cache rdd_25_25 in memory! (computed 2.7 MiB so far)\n",
      "23/08/09 20:50:24 WARN MemoryStore: Not enough space to cache rdd_25_32 in memory! (computed 2.8 MiB so far)\n",
      "23/08/09 20:50:24 WARN MemoryStore: Not enough space to cache rdd_25_35 in memory! (computed 2.8 MiB so far)\n",
      "23/08/09 20:50:25 WARN MemoryStore: Not enough space to cache rdd_25_42 in memory! (computed 2.8 MiB so far)\n",
      "23/08/09 20:50:25 WARN MemoryStore: Not enough space to cache rdd_25_53 in memory! (computed 2.8 MiB so far)\n",
      "23/08/09 20:50:25 WARN MemoryStore: Not enough space to cache rdd_25_50 in memory! (computed 2.9 MiB so far)\n",
      "23/08/09 20:50:25 WARN MemoryStore: Not enough space to cache rdd_25_56 in memory! (computed 3.0 MiB so far)\n",
      "23/08/09 20:50:25 WARN MemoryStore: Not enough space to cache rdd_25_68 in memory! (computed 2.6 MiB so far)\n",
      "23/08/09 20:50:25 WARN MemoryStore: Not enough space to cache rdd_25_70 in memory! (computed 2.8 MiB so far)\n",
      "23/08/09 20:50:25 WARN MemoryStore: Not enough space to cache rdd_25_79 in memory! (computed 2.8 MiB so far)\n",
      "23/08/09 20:50:25 WARN MemoryStore: Not enough space to cache rdd_25_81 in memory! (computed 3.0 MiB so far)\n",
      "23/08/09 20:50:25 WARN MemoryStore: Not enough space to cache rdd_25_80 in memory! (computed 2.7 MiB so far)\n",
      "23/08/09 20:50:26 WARN MemoryStore: Not enough space to cache rdd_25_93 in memory! (computed 2.9 MiB so far)\n",
      "23/08/09 20:50:26 WARN MemoryStore: Not enough space to cache rdd_25_101 in memory! (computed 2.7 MiB so far)\n",
      "23/08/09 20:50:26 WARN MemoryStore: Not enough space to cache rdd_25_102 in memory! (computed 2.8 MiB so far)\n",
      "23/08/09 20:50:26 WARN MemoryStore: Not enough space to cache rdd_25_104 in memory! (computed 2.8 MiB so far)\n",
      "23/08/09 20:50:27 WARN MemoryStore: Not enough space to cache rdd_25_119 in memory! (computed 2.9 MiB so far)\n",
      "23/08/09 20:50:27 WARN MemoryStore: Not enough space to cache rdd_25_118 in memory! (computed 2.8 MiB so far)\n",
      "23/08/09 20:50:27 WARN MemoryStore: Not enough space to cache rdd_25_115 in memory! (computed 2.7 MiB so far)\n",
      "23/08/09 20:50:27 WARN MemoryStore: Failed to reserve initial memory threshold of 1024.0 KiB for computing block rdd_25_126 in memory.\n",
      "23/08/09 20:50:27 WARN MemoryStore: Not enough space to cache rdd_25_126 in memory! (computed 384.0 B so far)\n",
      "23/08/09 20:50:27 WARN MemoryStore: Failed to reserve initial memory threshold of 1024.0 KiB for computing block rdd_25_134 in memory.\n",
      "23/08/09 20:50:27 WARN MemoryStore: Not enough space to cache rdd_25_134 in memory! (computed 384.0 B so far)\n",
      "23/08/09 20:50:27 WARN MemoryStore: Not enough space to cache rdd_25_135 in memory! (computed 2.6 MiB so far)\n",
      "23/08/09 20:50:27 WARN MemoryStore: Not enough space to cache rdd_25_138 in memory! (computed 2.7 MiB so far)\n",
      "23/08/09 20:50:27 WARN MemoryStore: Not enough space to cache rdd_25_143 in memory! (computed 2.7 MiB so far)\n",
      "23/08/09 20:50:27 WARN MemoryStore: Not enough space to cache rdd_25_142 in memory! (computed 2.9 MiB so far)\n",
      "23/08/09 20:50:27 WARN MemoryStore: Not enough space to cache rdd_25_153 in memory! (computed 2.8 MiB so far)\n",
      "23/08/09 20:50:27 WARN MemoryStore: Not enough space to cache rdd_25_161 in memory! (computed 2.9 MiB so far)\n",
      "23/08/09 20:50:27 WARN MemoryStore: Not enough space to cache rdd_25_160 in memory! (computed 2.9 MiB so far)\n",
      "23/08/09 20:50:28 WARN MemoryStore: Not enough space to cache rdd_25_178 in memory! (computed 2.9 MiB so far)\n",
      "23/08/09 20:50:28 WARN MemoryStore: Not enough space to cache rdd_25_185 in memory! (computed 3.0 MiB so far)\n",
      "23/08/09 20:50:28 WARN MemoryStore: Not enough space to cache rdd_25_187 in memory! (computed 2.8 MiB so far)\n",
      "23/08/09 20:50:28 WARN MemoryStore: Not enough space to cache rdd_25_195 in memory! (computed 2.8 MiB so far)\n",
      "23/08/09 20:50:28 WARN MemoryStore: Not enough space to cache rdd_25_194 in memory! (computed 2.7 MiB so far)\n",
      "[Stage 32:====================================================> (193 + 7) / 200]\r"
     ]
    },
    {
     "name": "stdout",
     "output_type": "stream",
     "text": [
      "+-------------+------------------+\n",
      "|month_of_year|total_amount      |\n",
      "+-------------+------------------+\n",
      "|10           |155010653.09938550|\n",
      "|11           |141089887.03784305|\n",
      "|9            |136740682.98367422|\n",
      "|7            |127350422.81185943|\n",
      "|8            |126816161.45199047|\n",
      "|6            |114857102.16223392|\n",
      "|5            |98753247.81253220 |\n",
      "|3            |96085401.47910819 |\n",
      "|2            |94219262.32206514 |\n",
      "|4            |84138166.75548230 |\n",
      "|1            |74672548.91007811 |\n",
      "|12           |2885.76065161     |\n",
      "+-------------+------------------+\n",
      "\n"
     ]
    },
    {
     "name": "stderr",
     "output_type": "stream",
     "text": [
      "                                                                                \r"
     ]
    }
   ],
   "source": [
    "samples.withColumn(\"month_of_year\", F.month(\"transaction_date\")).groupBy(\"month_of_year\").agg(F.sum(\"transaction_amount\").alias(\"total_amount\")).orderBy(F.desc(\"total_amount\")).show(truncate=False)\n"
   ]
  },
  {
   "cell_type": "code",
   "execution_count": 19,
   "metadata": {},
   "outputs": [],
   "source": [
    "spark.stop()"
   ]
  }
 ],
 "metadata": {
  "kernelspec": {
   "display_name": "Python 3",
   "language": "python",
   "name": "python3"
  },
  "language_info": {
   "codemirror_mode": {
    "name": "ipython",
    "version": 3
   },
   "file_extension": ".py",
   "mimetype": "text/x-python",
   "name": "python",
   "nbconvert_exporter": "python",
   "pygments_lexer": "ipython3",
   "version": "3.9.6"
  },
  "orig_nbformat": 4
 },
 "nbformat": 4,
 "nbformat_minor": 2
}
