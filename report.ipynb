{
 "cells": [
  {
   "cell_type": "markdown",
   "metadata": {},
   "source": [
    "# Nequi project"
   ]
  },
  {
   "cell_type": "markdown",
   "metadata": {},
   "source": [
    "### 1. Based on the link provided, files are dowloaded with aws cli."
   ]
  },
  {
   "cell_type": "code",
   "execution_count": 1,
   "metadata": {},
   "outputs": [
    {
     "name": "stdout",
     "output_type": "stream",
     "text": [
      "download: s3://nequi-open-data/sample_data_0006_part_00.parquet to ./sample_data_0006_part_00.parquet\n"
     ]
    }
   ],
   "source": [
    "!aws s3 cp \"s3://nequi-open-data/sample_data_0006_part_00.parquet\" ."
   ]
  },
  {
   "cell_type": "code",
   "execution_count": 2,
   "metadata": {},
   "outputs": [
    {
     "name": "stdout",
     "output_type": "stream",
     "text": [
      "download: s3://nequi-open-data/sample_data_0007_part_00.parquet to ./sample_data_0007_part_00.parquet\n"
     ]
    }
   ],
   "source": [
    "!aws s3 cp \"s3://nequi-open-data/sample_data_0007_part_00.parquet\" ."
   ]
  },
  {
   "cell_type": "markdown",
   "metadata": {},
   "source": [
    "### 2. Reading the file"
   ]
  },
  {
   "cell_type": "markdown",
   "metadata": {},
   "source": [
    "#### 2.a Pandas is first used to read parquet files"
   ]
  },
  {
   "cell_type": "code",
   "execution_count": 1,
   "metadata": {},
   "outputs": [],
   "source": [
    "import pandas as pd"
   ]
  },
  {
   "cell_type": "code",
   "execution_count": 2,
   "metadata": {},
   "outputs": [],
   "source": [
    "sample006 = pd.read_parquet('./sample_data_0006_part_00.parquet')\n",
    "sample007 = pd.read_parquet('./sample_data_0007_part_00.parquet')\n",
    "\n",
    "samples = pd.concat([sample006,sample007], ignore_index=True) # Since the whole data is stuided, samples are concatanated."
   ]
  },
  {
   "cell_type": "markdown",
   "metadata": {},
   "source": [
    "With Pandas it took 45.0 seconds to read and concatenate the files."
   ]
  },
  {
   "cell_type": "markdown",
   "metadata": {},
   "source": [
    "#### 2.b Pyspark is used to improve times"
   ]
  },
  {
   "cell_type": "code",
   "execution_count": 1,
   "metadata": {},
   "outputs": [],
   "source": [
    "from pyspark.sql import SparkSession\n",
    "from pyspark.sql import functions as F"
   ]
  },
  {
   "cell_type": "code",
   "execution_count": 2,
   "metadata": {},
   "outputs": [
    {
     "name": "stderr",
     "output_type": "stream",
     "text": [
      "23/08/08 21:13:28 WARN Utils: Your hostname, Danielas-MacBook-Air.local resolves to a loopback address: 127.0.0.1; using 192.168.1.8 instead (on interface en0)\n",
      "23/08/08 21:13:28 WARN Utils: Set SPARK_LOCAL_IP if you need to bind to another address\n",
      "Setting default log level to \"WARN\".\n",
      "To adjust logging level use sc.setLogLevel(newLevel). For SparkR, use setLogLevel(newLevel).\n",
      "23/08/08 21:13:30 WARN NativeCodeLoader: Unable to load native-hadoop library for your platform... using builtin-java classes where applicable\n"
     ]
    }
   ],
   "source": [
    "spark = SparkSession.builder.appName(\"NequiProject\").getOrCreate()"
   ]
  },
  {
   "cell_type": "code",
   "execution_count": 3,
   "metadata": {},
   "outputs": [
    {
     "name": "stderr",
     "output_type": "stream",
     "text": [
      "                                                                                \r"
     ]
    }
   ],
   "source": [
    "sample006 = spark.read.parquet('./sample_data_0006_part_00.parquet')\n",
    "sample007 = spark.read.parquet('./sample_data_0007_part_00.parquet')\n",
    "samples = sample006.union(sample007)"
   ]
  },
  {
   "cell_type": "markdown",
   "metadata": {},
   "source": [
    "Since pyspark is more time efficient, the project will use it instead of pandas."
   ]
  },
  {
   "cell_type": "code",
   "execution_count": 4,
   "metadata": {},
   "outputs": [
    {
     "name": "stderr",
     "output_type": "stream",
     "text": [
      "                                                                                \r"
     ]
    },
    {
     "name": "stdout",
     "output_type": "stream",
     "text": [
      "+--------------------+--------------------+--------------------+-------------------+--------------------+--------------------+------------------+----------------+\n",
      "|         merchant_id|                 _id|          subsidiary|   transaction_date|      account_number|             user_id|transaction_amount|transaction_type|\n",
      "+--------------------+--------------------+--------------------+-------------------+--------------------+--------------------+------------------+----------------+\n",
      "|075d178871d8d4850...|aa8dacff663072244...|824b2af470cbe6a65...|2021-09-12 13:32:03|648e257c9d74909a1...|ba42d192a145583ba...|      178.33365037|         CREDITO|\n",
      "|075d178871d8d4850...|a53bb81bd0bba2ae2...|2d8d34be7509a6b12...|2021-09-12 13:31:58|c0b62f9046c83ea55...|5cfff960ea6d732c1...|       35.66673007|         CREDITO|\n",
      "|075d178871d8d4850...|79f893ea65c06fe29...|5eeb18254850b21af...|2021-09-12 13:31:56|872d10143fc0ac7d5...|c97e63a92c82c7217...|      142.66692029|         CREDITO|\n",
      "|075d178871d8d4850...|ce577223699dbdc11...|5221a599856c0a058...|2021-09-12 13:31:10|2e35cfe7860a480a9...|fc09bdd00f283222d...|        8.32223701|         CREDITO|\n",
      "|075d178871d8d4850...|0ce7ab2950e7a788a...|971e55ef12d80ec07...|2021-09-12 13:31:07|995bc89e4c4e00334...|213527e8ba94fcaf2...|       32.10005706|         CREDITO|\n",
      "+--------------------+--------------------+--------------------+-------------------+--------------------+--------------------+------------------+----------------+\n",
      "only showing top 5 rows\n",
      "\n"
     ]
    }
   ],
   "source": [
    "samples.show(5)"
   ]
  },
  {
   "cell_type": "code",
   "execution_count": 5,
   "metadata": {},
   "outputs": [
    {
     "name": "stdout",
     "output_type": "stream",
     "text": [
      "root\n",
      " |-- merchant_id: string (nullable = true)\n",
      " |-- _id: string (nullable = true)\n",
      " |-- subsidiary: string (nullable = true)\n",
      " |-- transaction_date: timestamp (nullable = true)\n",
      " |-- account_number: string (nullable = true)\n",
      " |-- user_id: string (nullable = true)\n",
      " |-- transaction_amount: decimal(24,8) (nullable = true)\n",
      " |-- transaction_type: string (nullable = true)\n",
      "\n"
     ]
    }
   ],
   "source": [
    "samples.printSchema()"
   ]
  },
  {
   "cell_type": "code",
   "execution_count": 6,
   "metadata": {},
   "outputs": [
    {
     "name": "stdout",
     "output_type": "stream",
     "text": [
      "+--------------------------------+\n",
      "|user_id                         |\n",
      "+--------------------------------+\n",
      "|ba42d192a145583ba8e7bf04875f837f|\n",
      "|5cfff960ea6d732c1ba3e63d24f3be52|\n",
      "|c97e63a92c82c7217b333635d75928ed|\n",
      "|fc09bdd00f283222d65eaff4d00a6594|\n",
      "|213527e8ba94fcaf2f9378969f9f6abc|\n",
      "+--------------------------------+\n",
      "only showing top 5 rows\n",
      "\n"
     ]
    }
   ],
   "source": [
    "samples.select(\"user_id\").show(5, truncate=False)"
   ]
  },
  {
   "cell_type": "code",
   "execution_count": 7,
   "metadata": {},
   "outputs": [
    {
     "name": "stderr",
     "output_type": "stream",
     "text": [
      "[Stage 4:=================================================>       (14 + 2) / 16]\r"
     ]
    },
    {
     "name": "stdout",
     "output_type": "stream",
     "text": [
      "+----+\n",
      "|Year|\n",
      "+----+\n",
      "|2021|\n",
      "|2020|\n",
      "+----+\n",
      "\n"
     ]
    },
    {
     "name": "stderr",
     "output_type": "stream",
     "text": [
      "                                                                                \r"
     ]
    }
   ],
   "source": [
    "samples.select(F.year(\"transaction_date\").alias(\"Year\")).distinct().show()"
   ]
  },
  {
   "cell_type": "code",
   "execution_count": 8,
   "metadata": {},
   "outputs": [
    {
     "name": "stderr",
     "output_type": "stream",
     "text": [
      "[Stage 7:=======================================>                 (11 + 5) / 16]\r"
     ]
    },
    {
     "name": "stdout",
     "output_type": "stream",
     "text": [
      "+--------------------------------+\n",
      "|merchant_id                     |\n",
      "+--------------------------------+\n",
      "|075d178871d8d48502bf1f54887e52fe|\n",
      "|817d18cd3c31e40e9bff0566baae7758|\n",
      "|838a8fa992a4aa2fb5a0cf8b15b63755|\n",
      "+--------------------------------+\n",
      "\n"
     ]
    },
    {
     "name": "stderr",
     "output_type": "stream",
     "text": [
      "                                                                                \r"
     ]
    }
   ],
   "source": [
    "samples.select(\"merchant_id\").distinct().show(truncate=False)"
   ]
  },
  {
   "cell_type": "code",
   "execution_count": 9,
   "metadata": {},
   "outputs": [
    {
     "name": "stderr",
     "output_type": "stream",
     "text": [
      "[Stage 18:===================================================>      (8 + 1) / 9]\r"
     ]
    },
    {
     "name": "stdout",
     "output_type": "stream",
     "text": [
      "Total unique users that has placed at least one transaction are 3,087,217, while there are a total of 3,099,711 accounts.\n"
     ]
    },
    {
     "name": "stderr",
     "output_type": "stream",
     "text": [
      "                                                                                \r"
     ]
    }
   ],
   "source": [
    "num_users = samples.select(\"user_id\").distinct().count()\n",
    "num_accounts = samples.select(\"account_number\").distinct().count()\n",
    "\n",
    "print(f\"Total unique users that has placed at least one transaction are {num_users:,}, while there are a total of {num_accounts:,} accounts.\")"
   ]
  },
  {
   "cell_type": "code",
   "execution_count": 10,
   "metadata": {},
   "outputs": [
    {
     "name": "stderr",
     "output_type": "stream",
     "text": [
      "23/08/08 20:46:21 WARN RowBasedKeyValueBatch: Calling spill() on RowBasedKeyValueBatch. Will not spill but return 0.\n",
      "23/08/08 20:46:21 WARN RowBasedKeyValueBatch: Calling spill() on RowBasedKeyValueBatch. Will not spill but return 0.\n",
      "23/08/08 20:46:21 WARN RowBasedKeyValueBatch: Calling spill() on RowBasedKeyValueBatch. Will not spill but return 0.\n",
      "23/08/08 20:46:21 WARN RowBasedKeyValueBatch: Calling spill() on RowBasedKeyValueBatch. Will not spill but return 0.\n",
      "23/08/08 20:46:21 WARN RowBasedKeyValueBatch: Calling spill() on RowBasedKeyValueBatch. Will not spill but return 0.\n",
      "23/08/08 20:46:21 WARN RowBasedKeyValueBatch: Calling spill() on RowBasedKeyValueBatch. Will not spill but return 0.\n",
      "23/08/08 20:46:21 WARN RowBasedKeyValueBatch: Calling spill() on RowBasedKeyValueBatch. Will not spill but return 0.\n",
      "23/08/08 20:46:21 WARN RowBasedKeyValueBatch: Calling spill() on RowBasedKeyValueBatch. Will not spill but return 0.\n",
      "23/08/08 20:46:24 WARN RowBasedKeyValueBatch: Calling spill() on RowBasedKeyValueBatch. Will not spill but return 0.\n",
      "23/08/08 20:46:24 WARN RowBasedKeyValueBatch: Calling spill() on RowBasedKeyValueBatch. Will not spill but return 0.\n",
      "23/08/08 20:46:24 WARN RowBasedKeyValueBatch: Calling spill() on RowBasedKeyValueBatch. Will not spill but return 0.\n",
      "23/08/08 20:46:24 WARN RowBasedKeyValueBatch: Calling spill() on RowBasedKeyValueBatch. Will not spill but return 0.\n",
      "23/08/08 20:46:24 WARN RowBasedKeyValueBatch: Calling spill() on RowBasedKeyValueBatch. Will not spill but return 0.\n",
      "23/08/08 20:46:24 WARN RowBasedKeyValueBatch: Calling spill() on RowBasedKeyValueBatch. Will not spill but return 0.\n",
      "23/08/08 20:46:24 WARN RowBasedKeyValueBatch: Calling spill() on RowBasedKeyValueBatch. Will not spill but return 0.\n",
      "23/08/08 20:46:24 WARN RowBasedKeyValueBatch: Calling spill() on RowBasedKeyValueBatch. Will not spill but return 0.\n",
      "[Stage 31:=================================================>      (14 + 2) / 16]\r"
     ]
    },
    {
     "name": "stdout",
     "output_type": "stream",
     "text": [
      "+--------------------------------+-------------+----------------+------------------+\n",
      "|user_id                         |account_count|sum_transactions|std_deviation     |\n",
      "+--------------------------------+-------------+----------------+------------------+\n",
      "|8c292781ac3e591312d7fc5b767687ca|43           |57794.36941102  |297.1821683130902 |\n",
      "|6ba67792fbc4e375fa69ed6df0e44854|27           |59241.24976144  |441.69874871545954|\n",
      "|328550eea11d2441ab258a1f07581dc8|24           |6242.86665343   |91.07442149253173 |\n",
      "|a9fbdb2d32424dbac15edc0b17c12e23|23           |17405.36427600  |161.0434881880177 |\n",
      "|62e1cb0b55d1d7b577292916528ef6d8|20           |1190.07989329   |23.55723555824086 |\n",
      "|16100156a44d52a0ab40b2661dd648cc|17           |5350.00951085   |459.00474438452113|\n",
      "|94cf8a83c7f7d2b2d33450d9ca233ef6|17           |15539.99429289  |374.8176078533819 |\n",
      "|a71f0b8fc6267a4687430bea42310468|16           |13470.13505786  |249.89727904121185|\n",
      "|e066a19e39bbb74e82d0d88702292b7e|13           |4761.50846469   |68.08004653605938 |\n",
      "|be14ec758eeebe23d51338528f01ec4e|13           |10188.79589101  |157.0960030136617 |\n",
      "|7cac676a8d21f4fb7a66d4966dd3a12c|13           |90061.45853037  |379.62975093658156|\n",
      "|f0e7c4ab7966fcb88c1834057a4e9538|12           |5622.26554982   |127.39831519194975|\n",
      "|ac107913e0e0e1c0f8545cfd216d2aa9|10           |12373.97755321  |241.457048645901  |\n",
      "|5b8fae260460e55a5e88f205bab71493|10           |3099.43884318   |47.31447051850931 |\n",
      "|5e674596af22a66e826bf15b2a363cce|10           |38115.75041009  |9.664240449636598 |\n",
      "|5761bc095a32fe0b1cfc550d68ce0a1a|9            |18857.00018998  |828.0336796331437 |\n",
      "|87566d194870d73dc760b78428e4bbad|9            |8768.07114315   |435.1804319004531 |\n",
      "|6daf3c8da4f38d4a0926aac3c7696029|9            |2936.56077571   |97.48435442959996 |\n",
      "|e156a4ffeb46c534f281ed35175828bd|9            |1374.35799872   |25.981221535262723|\n",
      "|9773d8b1761e68e2801b20d8b69c841a|9            |6933.61232628   |186.34500231873673|\n",
      "+--------------------------------+-------------+----------------+------------------+\n",
      "\n"
     ]
    },
    {
     "name": "stderr",
     "output_type": "stream",
     "text": [
      "                                                                                \r"
     ]
    }
   ],
   "source": [
    "accounts = samples.groupBy(\"user_id\").agg(F.countDistinct(\"account_number\").alias(\"account_count\")).orderBy(F.desc(\"account_count\")).limit(20)\n",
    "ammounts = accounts.join(samples, \"user_id\", \"inner\") \\\n",
    "    .groupBy(\"user_id\") \\\n",
    "    .agg(F.sum(\"transaction_amount\").alias(\"sum_transactions\"),\n",
    "         F.stddev(\"transaction_amount\").alias(\"std_deviation\"))\n",
    "result = accounts.join(ammounts, 'user_id', 'inner').orderBy(F.desc(\"account_count\")).show(truncate=False)"
   ]
  },
  {
   "cell_type": "code",
   "execution_count": 11,
   "metadata": {},
   "outputs": [
    {
     "name": "stderr",
     "output_type": "stream",
     "text": [
      "[Stage 34:===================================>                    (10 + 6) / 16]\r"
     ]
    },
    {
     "name": "stdout",
     "output_type": "stream",
     "text": [
      "+----------------+\n",
      "|transaction_type|\n",
      "+----------------+\n",
      "|DEBITO          |\n",
      "|CREDITO         |\n",
      "+----------------+\n",
      "\n"
     ]
    },
    {
     "name": "stderr",
     "output_type": "stream",
     "text": [
      "                                                                                \r"
     ]
    }
   ],
   "source": [
    "samples.select(\"transaction_type\").distinct().show(truncate=False)"
   ]
  },
  {
   "cell_type": "code",
   "execution_count": 12,
   "metadata": {},
   "outputs": [
    {
     "name": "stderr",
     "output_type": "stream",
     "text": [
      "[Stage 37:=================================================>      (14 + 2) / 16]\r"
     ]
    },
    {
     "name": "stdout",
     "output_type": "stream",
     "text": [
      "+--------------------------------+----------------+-------------------+\n",
      "|merchant_id                     |transaction_year|total_transactions |\n",
      "+--------------------------------+----------------+-------------------+\n",
      "|075d178871d8d48502bf1f54887e52fe|2021            |550735204.98759165 |\n",
      "|817d18cd3c31e40e9bff0566baae7758|2021            |3225043739.22018780|\n",
      "|817d18cd3c31e40e9bff0566baae7758|2020            |10117.46243062     |\n",
      "|838a8fa992a4aa2fb5a0cf8b15b63755|2021            |340173600.19185339 |\n",
      "|838a8fa992a4aa2fb5a0cf8b15b63755|2020            |4986.05430744      |\n",
      "+--------------------------------+----------------+-------------------+\n",
      "\n"
     ]
    },
    {
     "name": "stderr",
     "output_type": "stream",
     "text": [
      "                                                                                \r"
     ]
    }
   ],
   "source": [
    "samples.groupBy(\"merchant_id\", F.year(\"transaction_date\").alias(\"transaction_year\")).agg(F.sum(\"transaction_amount\").alias(\"total_transactions\")).show(truncate=False)"
   ]
  },
  {
   "cell_type": "code",
   "execution_count": 4,
   "metadata": {},
   "outputs": [
    {
     "name": "stderr",
     "output_type": "stream",
     "text": [
      "[Stage 2:=============================>                            (8 + 8) / 16]\r"
     ]
    },
    {
     "name": "stdout",
     "output_type": "stream",
     "text": [
      "Sample's shape: (21516918,8)\n"
     ]
    },
    {
     "name": "stderr",
     "output_type": "stream",
     "text": [
      "                                                                                \r"
     ]
    }
   ],
   "source": [
    "num_columns = len(samples.columns)\n",
    "num_rows = samples.count()\n",
    "\n",
    "print(f\"Sample's shape: ({num_rows},{num_columns})\")"
   ]
  },
  {
   "cell_type": "code",
   "execution_count": 5,
   "metadata": {},
   "outputs": [
    {
     "name": "stderr",
     "output_type": "stream",
     "text": [
      "[Stage 6:====================================================>  (192 + 8) / 200]\r"
     ]
    },
    {
     "name": "stdout",
     "output_type": "stream",
     "text": [
      "There a total of 11 duplicate samples\n"
     ]
    },
    {
     "name": "stderr",
     "output_type": "stream",
     "text": [
      "                                                                                \r"
     ]
    }
   ],
   "source": [
    "samples = samples.dropDuplicates().cache()\n",
    "num_unique = samples.count()\n",
    "if num_rows > num_unique:\n",
    "    diff = num_rows - num_unique\n",
    "    print(f\"There a total of {diff} duplicate samples\")"
   ]
  },
  {
   "cell_type": "code",
   "execution_count": 6,
   "metadata": {},
   "outputs": [
    {
     "name": "stdout",
     "output_type": "stream",
     "text": [
      "+--------------------+--------------------+--------------------+-------------------+--------------------+--------------------+------------------+----------------+\n",
      "|         merchant_id|                 _id|          subsidiary|   transaction_date|      account_number|             user_id|transaction_amount|transaction_type|\n",
      "+--------------------+--------------------+--------------------+-------------------+--------------------+--------------------+------------------+----------------+\n",
      "|075d178871d8d4850...|0ccf1fe8dd3333e6e...|00015fd77a0f4d869...|2021-06-18 07:08:03|a79ff75955445c687...|ebc8d3ae01b8334f3...|      356.66730074|          DEBITO|\n",
      "|075d178871d8d4850...|b86f53170772d5b15...|00015fd77a0f4d869...|2021-05-05 06:28:04|c790394d677140db4...|05ee34549ddebf8c2...|      350.72284572|          DEBITO|\n",
      "|075d178871d8d4850...|cfe6f6fb72e5d5ad2...|00015fd77a0f4d869...|2021-07-09 05:48:27|c6a712474dc3e8c59...|de5f51b22e24411f3...|       35.66673007|         CREDITO|\n",
      "|075d178871d8d4850...|1f1190b01fe1f0b17...|000ed83916ade2efe...|2021-08-20 05:50:20|4003c9f0520125294...|349b24e0ade2a7c88...|      546.88986113|         CREDITO|\n",
      "|075d178871d8d4850...|2fa67dabe5d51e6fd...|000ed83916ade2efe...|2021-09-02 07:29:06|ca60a1c5d96f636e2...|21b02a7b885bdcb94...|      142.66692029|         CREDITO|\n",
      "+--------------------+--------------------+--------------------+-------------------+--------------------+--------------------+------------------+----------------+\n",
      "only showing top 5 rows\n",
      "\n"
     ]
    }
   ],
   "source": [
    "samples.show(5)"
   ]
  },
  {
   "cell_type": "code",
   "execution_count": 7,
   "metadata": {},
   "outputs": [],
   "source": [
    "from pyspark.sql.window import Window\n",
    "from pyspark.sql import functions as F\n",
    "from datetime import timedelta"
   ]
  },
  {
   "cell_type": "code",
   "execution_count": 8,
   "metadata": {},
   "outputs": [],
   "source": [
    "window_spec = Window().partitionBy(\"user_id\").orderBy(\"transaction_date\")"
   ]
  },
  {
   "cell_type": "code",
   "execution_count": 9,
   "metadata": {},
   "outputs": [],
   "source": [
    "samples = samples.withColumn(\"transaction_diff\", F.lag(\"transaction_date\").over(window_spec))"
   ]
  },
  {
   "cell_type": "code",
   "execution_count": 10,
   "metadata": {},
   "outputs": [],
   "source": [
    "threshold = timedelta(hours=24)"
   ]
  },
  {
   "cell_type": "code",
   "execution_count": 11,
   "metadata": {},
   "outputs": [],
   "source": [
    "samples = samples.withColumn(\"Fract\", F.when((F.col(\"transaction_date\") - F.col(\"transaction_diff\") <= threshold) & (F.col(\"transaction_diff\").isNotNull()), 1).otherwise(0)).cache()"
   ]
  },
  {
   "cell_type": "code",
   "execution_count": 12,
   "metadata": {},
   "outputs": [],
   "source": [
    "samples = samples.where(samples['Fract'] == 1).cache()"
   ]
  },
  {
   "cell_type": "code",
   "execution_count": 13,
   "metadata": {},
   "outputs": [
    {
     "name": "stderr",
     "output_type": "stream",
     "text": [
      "23/08/08 21:17:52 WARN MemoryStore: Not enough space to cache rdd_24_7 in memory! (computed 14.4 MiB so far)\n",
      "23/08/08 21:17:52 WARN MemoryStore: Not enough space to cache rdd_24_3 in memory! (computed 14.5 MiB so far)\n",
      "23/08/08 21:17:52 WARN MemoryStore: Not enough space to cache rdd_24_4 in memory! (computed 14.5 MiB so far)\n",
      "23/08/08 21:17:55 WARN MemoryStore: Failed to reserve initial memory threshold of 1024.0 KiB for computing block rdd_24_9 in memory.\n",
      "23/08/08 21:17:55 WARN MemoryStore: Not enough space to cache rdd_24_10 in memory! (computed 1302.4 KiB so far)\n",
      "23/08/08 21:17:55 WARN MemoryStore: Not enough space to cache rdd_24_8 in memory! (computed 1301.6 KiB so far)\n",
      "23/08/08 21:17:55 WARN MemoryStore: Not enough space to cache rdd_24_15 in memory! (computed 1303.0 KiB so far)\n",
      "23/08/08 21:17:55 WARN MemoryStore: Not enough space to cache rdd_24_13 in memory! (computed 1301.4 KiB so far)\n",
      "23/08/08 21:17:55 WARN MemoryStore: Not enough space to cache rdd_24_11 in memory! (computed 1301.6 KiB so far)\n",
      "23/08/08 21:17:55 WARN MemoryStore: Not enough space to cache rdd_24_12 in memory! (computed 1301.2 KiB so far)\n",
      "23/08/08 21:17:55 WARN MemoryStore: Not enough space to cache rdd_24_14 in memory! (computed 1301.2 KiB so far)\n",
      "23/08/08 21:17:55 WARN MemoryStore: Not enough space to cache rdd_24_9 in memory! (computed 384.0 B so far)\n",
      "23/08/08 21:17:56 WARN MemoryStore: Failed to reserve initial memory threshold of 1024.0 KiB for computing block rdd_24_21 in memory.\n",
      "23/08/08 21:17:56 WARN MemoryStore: Failed to reserve initial memory threshold of 1024.0 KiB for computing block rdd_24_23 in memory.\n",
      "23/08/08 21:17:56 WARN MemoryStore: Failed to reserve initial memory threshold of 1024.0 KiB for computing block rdd_24_19 in memory.\n",
      "23/08/08 21:17:56 WARN MemoryStore: Not enough space to cache rdd_24_17 in memory! (computed 13.6 MiB so far)\n",
      "23/08/08 21:17:56 WARN MemoryStore: Failed to reserve initial memory threshold of 1024.0 KiB for computing block rdd_24_22 in memory.\n",
      "23/08/08 21:17:56 WARN MemoryStore: Not enough space to cache rdd_24_18 in memory! (computed 13.6 MiB so far)\n",
      "23/08/08 21:17:56 WARN MemoryStore: Not enough space to cache rdd_24_16 in memory! (computed 13.6 MiB so far)\n",
      "23/08/08 21:17:56 WARN MemoryStore: Not enough space to cache rdd_24_23 in memory! (computed 384.0 B so far)\n",
      "23/08/08 21:17:56 WARN MemoryStore: Not enough space to cache rdd_24_22 in memory! (computed 384.0 B so far)\n",
      "23/08/08 21:17:56 WARN MemoryStore: Not enough space to cache rdd_24_21 in memory! (computed 384.0 B so far)\n",
      "23/08/08 21:17:56 WARN MemoryStore: Not enough space to cache rdd_24_19 in memory! (computed 384.0 B so far)\n",
      "23/08/08 21:17:56 WARN MemoryStore: Not enough space to cache rdd_24_20 in memory! (computed 1302.5 KiB so far)\n",
      "23/08/08 21:17:58 WARN MemoryStore: Failed to reserve initial memory threshold of 1024.0 KiB for computing block rdd_24_27 in memory.\n",
      "23/08/08 21:17:58 WARN MemoryStore: Failed to reserve initial memory threshold of 1024.0 KiB for computing block rdd_24_29 in memory.\n",
      "23/08/08 21:17:58 WARN MemoryStore: Not enough space to cache rdd_24_27 in memory! (computed 384.0 B so far)\n",
      "23/08/08 21:17:58 WARN MemoryStore: Not enough space to cache rdd_24_29 in memory! (computed 384.0 B so far)\n",
      "23/08/08 21:17:58 WARN MemoryStore: Not enough space to cache rdd_24_28 in memory! (computed 1302.7 KiB so far)\n",
      "23/08/08 21:17:58 WARN MemoryStore: Not enough space to cache rdd_24_26 in memory! (computed 13.7 MiB so far)\n",
      "23/08/08 21:17:58 WARN MemoryStore: Not enough space to cache rdd_24_25 in memory! (computed 13.6 MiB so far)\n",
      "23/08/08 21:17:58 WARN MemoryStore: Not enough space to cache rdd_24_24 in memory! (computed 13.6 MiB so far)\n",
      "23/08/08 21:17:58 WARN MemoryStore: Failed to reserve initial memory threshold of 1024.0 KiB for computing block rdd_24_30 in memory.\n",
      "23/08/08 21:17:58 WARN MemoryStore: Failed to reserve initial memory threshold of 1024.0 KiB for computing block rdd_24_31 in memory.\n",
      "23/08/08 21:17:58 WARN MemoryStore: Not enough space to cache rdd_24_31 in memory! (computed 384.0 B so far)\n",
      "23/08/08 21:17:58 WARN MemoryStore: Not enough space to cache rdd_24_30 in memory! (computed 384.0 B so far)\n",
      "23/08/08 21:17:59 WARN MemoryStore: Not enough space to cache rdd_24_38 in memory! (computed 1301.3 KiB so far)\n",
      "23/08/08 21:17:59 WARN MemoryStore: Not enough space to cache rdd_24_33 in memory! (computed 1301.4 KiB so far)\n",
      "23/08/08 21:17:59 WARN MemoryStore: Not enough space to cache rdd_24_35 in memory! (computed 1301.6 KiB so far)\n",
      "23/08/08 21:17:59 WARN MemoryStore: Not enough space to cache rdd_24_32 in memory! (computed 1301.8 KiB so far)\n",
      "23/08/08 21:17:59 WARN MemoryStore: Not enough space to cache rdd_24_34 in memory! (computed 1302.1 KiB so far)\n",
      "23/08/08 21:17:59 WARN MemoryStore: Failed to reserve initial memory threshold of 1024.0 KiB for computing block rdd_24_37 in memory.\n",
      "23/08/08 21:17:59 WARN MemoryStore: Not enough space to cache rdd_24_39 in memory! (computed 1301.8 KiB so far)\n",
      "23/08/08 21:17:59 WARN MemoryStore: Not enough space to cache rdd_24_37 in memory! (computed 384.0 B so far)\n",
      "23/08/08 21:17:59 WARN MemoryStore: Not enough space to cache rdd_24_36 in memory! (computed 1301.4 KiB so far)\n",
      "23/08/08 21:18:01 WARN MemoryStore: Failed to reserve initial memory threshold of 1024.0 KiB for computing block rdd_24_42 in memory.\n",
      "23/08/08 21:18:01 WARN MemoryStore: Not enough space to cache rdd_24_40 in memory! (computed 1301.6 KiB so far)\n",
      "23/08/08 21:18:01 WARN MemoryStore: Not enough space to cache rdd_24_43 in memory! (computed 1301.3 KiB so far)\n",
      "23/08/08 21:18:01 WARN MemoryStore: Not enough space to cache rdd_24_47 in memory! (computed 1301.9 KiB so far)\n",
      "23/08/08 21:18:01 WARN MemoryStore: Not enough space to cache rdd_24_41 in memory! (computed 1302.5 KiB so far)\n",
      "23/08/08 21:18:01 WARN MemoryStore: Not enough space to cache rdd_24_45 in memory! (computed 1301.6 KiB so far)\n",
      "23/08/08 21:18:01 WARN MemoryStore: Not enough space to cache rdd_24_46 in memory! (computed 1301.8 KiB so far)\n",
      "23/08/08 21:18:01 WARN MemoryStore: Not enough space to cache rdd_24_44 in memory! (computed 1301.7 KiB so far)\n",
      "23/08/08 21:18:01 WARN MemoryStore: Not enough space to cache rdd_24_42 in memory! (computed 384.0 B so far)\n",
      "23/08/08 21:18:02 WARN MemoryStore: Not enough space to cache rdd_24_50 in memory! (computed 1302.1 KiB so far)\n",
      "23/08/08 21:18:02 WARN MemoryStore: Not enough space to cache rdd_24_55 in memory! (computed 1302.4 KiB so far)\n",
      "23/08/08 21:18:02 WARN MemoryStore: Not enough space to cache rdd_24_49 in memory! (computed 1301.6 KiB so far)\n",
      "23/08/08 21:18:02 WARN MemoryStore: Failed to reserve initial memory threshold of 1024.0 KiB for computing block rdd_24_48 in memory.\n",
      "23/08/08 21:18:02 WARN MemoryStore: Not enough space to cache rdd_24_52 in memory! (computed 1301.9 KiB so far)\n",
      "23/08/08 21:18:02 WARN MemoryStore: Not enough space to cache rdd_24_51 in memory! (computed 1301.9 KiB so far)\n",
      "23/08/08 21:18:02 WARN MemoryStore: Not enough space to cache rdd_24_54 in memory! (computed 1302.7 KiB so far)\n",
      "23/08/08 21:18:02 WARN MemoryStore: Not enough space to cache rdd_24_48 in memory! (computed 384.0 B so far)\n",
      "23/08/08 21:18:02 WARN MemoryStore: Not enough space to cache rdd_24_53 in memory! (computed 1301.7 KiB so far)\n",
      "23/08/08 21:18:04 WARN MemoryStore: Not enough space to cache rdd_24_59 in memory! (computed 1302.4 KiB so far)\n",
      "23/08/08 21:18:04 WARN MemoryStore: Not enough space to cache rdd_24_57 in memory! (computed 1301.1 KiB so far)\n",
      "23/08/08 21:18:04 WARN MemoryStore: Failed to reserve initial memory threshold of 1024.0 KiB for computing block rdd_24_62 in memory.\n",
      "23/08/08 21:18:04 WARN MemoryStore: Not enough space to cache rdd_24_63 in memory! (computed 1301.9 KiB so far)\n",
      "23/08/08 21:18:04 WARN MemoryStore: Not enough space to cache rdd_24_56 in memory! (computed 1302.8 KiB so far)\n",
      "23/08/08 21:18:04 WARN MemoryStore: Not enough space to cache rdd_24_61 in memory! (computed 1301.3 KiB so far)\n",
      "23/08/08 21:18:04 WARN MemoryStore: Not enough space to cache rdd_24_58 in memory! (computed 1301.9 KiB so far)\n",
      "23/08/08 21:18:04 WARN MemoryStore: Not enough space to cache rdd_24_60 in memory! (computed 1301.5 KiB so far)\n",
      "23/08/08 21:18:04 WARN MemoryStore: Not enough space to cache rdd_24_62 in memory! (computed 384.0 B so far)\n",
      "23/08/08 21:18:06 WARN MemoryStore: Failed to reserve initial memory threshold of 1024.0 KiB for computing block rdd_24_70 in memory.\n",
      "23/08/08 21:18:06 WARN MemoryStore: Not enough space to cache rdd_24_65 in memory! (computed 1301.6 KiB so far)\n",
      "23/08/08 21:18:06 WARN MemoryStore: Not enough space to cache rdd_24_71 in memory! (computed 1302.7 KiB so far)\n",
      "23/08/08 21:18:06 WARN MemoryStore: Not enough space to cache rdd_24_64 in memory! (computed 1301.9 KiB so far)\n",
      "23/08/08 21:18:06 WARN MemoryStore: Not enough space to cache rdd_24_66 in memory! (computed 1302.1 KiB so far)\n",
      "23/08/08 21:18:06 WARN MemoryStore: Not enough space to cache rdd_24_68 in memory! (computed 1302.5 KiB so far)\n",
      "23/08/08 21:18:06 WARN MemoryStore: Not enough space to cache rdd_24_67 in memory! (computed 1301.8 KiB so far)\n",
      "23/08/08 21:18:06 WARN MemoryStore: Not enough space to cache rdd_24_69 in memory! (computed 1302.4 KiB so far)\n",
      "23/08/08 21:18:06 WARN MemoryStore: Not enough space to cache rdd_24_70 in memory! (computed 384.0 B so far)\n",
      "23/08/08 21:18:08 WARN MemoryStore: Not enough space to cache rdd_24_75 in memory! (computed 1302.0 KiB so far)\n",
      "23/08/08 21:18:08 WARN MemoryStore: Not enough space to cache rdd_24_72 in memory! (computed 1301.4 KiB so far)\n",
      "23/08/08 21:18:08 WARN MemoryStore: Not enough space to cache rdd_24_79 in memory! (computed 1302.4 KiB so far)\n",
      "23/08/08 21:18:08 WARN MemoryStore: Not enough space to cache rdd_24_74 in memory! (computed 1301.5 KiB so far)\n",
      "23/08/08 21:18:08 WARN MemoryStore: Failed to reserve initial memory threshold of 1024.0 KiB for computing block rdd_24_73 in memory.\n",
      "23/08/08 21:18:08 WARN MemoryStore: Not enough space to cache rdd_24_73 in memory! (computed 384.0 B so far)\n",
      "23/08/08 21:18:08 WARN MemoryStore: Not enough space to cache rdd_24_77 in memory! (computed 1302.1 KiB so far)\n",
      "23/08/08 21:18:08 WARN MemoryStore: Not enough space to cache rdd_24_78 in memory! (computed 1301.7 KiB so far)\n",
      "23/08/08 21:18:08 WARN MemoryStore: Not enough space to cache rdd_24_76 in memory! (computed 1301.6 KiB so far)\n",
      "23/08/08 21:18:09 WARN MemoryStore: Failed to reserve initial memory threshold of 1024.0 KiB for computing block rdd_24_82 in memory.\n",
      "23/08/08 21:18:09 WARN MemoryStore: Not enough space to cache rdd_24_82 in memory! (computed 384.0 B so far)\n",
      "23/08/08 21:18:09 WARN MemoryStore: Not enough space to cache rdd_24_84 in memory! (computed 1302.5 KiB so far)\n",
      "23/08/08 21:18:09 WARN MemoryStore: Not enough space to cache rdd_24_81 in memory! (computed 1302.3 KiB so far)\n",
      "23/08/08 21:18:09 WARN MemoryStore: Not enough space to cache rdd_24_85 in memory! (computed 1302.2 KiB so far)\n",
      "23/08/08 21:18:09 WARN MemoryStore: Not enough space to cache rdd_24_80 in memory! (computed 1300.6 KiB so far)\n",
      "23/08/08 21:18:09 WARN MemoryStore: Not enough space to cache rdd_24_87 in memory! (computed 1301.8 KiB so far)\n",
      "23/08/08 21:18:09 WARN MemoryStore: Not enough space to cache rdd_24_83 in memory! (computed 1302.2 KiB so far)\n",
      "23/08/08 21:18:09 WARN MemoryStore: Not enough space to cache rdd_24_86 in memory! (computed 1303.0 KiB so far)\n",
      "23/08/08 21:18:11 WARN MemoryStore: Not enough space to cache rdd_24_95 in memory! (computed 1302.3 KiB so far)\n",
      "23/08/08 21:18:11 WARN MemoryStore: Not enough space to cache rdd_24_88 in memory! (computed 1302.0 KiB so far)\n",
      "23/08/08 21:18:11 WARN MemoryStore: Not enough space to cache rdd_24_92 in memory! (computed 1302.9 KiB so far)\n",
      "23/08/08 21:18:11 WARN MemoryStore: Not enough space to cache rdd_24_94 in memory! (computed 1302.0 KiB so far)\n",
      "23/08/08 21:18:11 WARN MemoryStore: Failed to reserve initial memory threshold of 1024.0 KiB for computing block rdd_24_91 in memory.\n",
      "23/08/08 21:18:11 WARN MemoryStore: Not enough space to cache rdd_24_93 in memory! (computed 1302.0 KiB so far)\n",
      "23/08/08 21:18:11 WARN MemoryStore: Not enough space to cache rdd_24_89 in memory! (computed 1300.8 KiB so far)\n",
      "23/08/08 21:18:11 WARN MemoryStore: Not enough space to cache rdd_24_90 in memory! (computed 1302.4 KiB so far)\n",
      "23/08/08 21:18:11 WARN MemoryStore: Not enough space to cache rdd_24_91 in memory! (computed 384.0 B so far)\n",
      "23/08/08 21:18:12 WARN MemoryStore: Not enough space to cache rdd_24_102 in memory! (computed 13.7 MiB so far)\n",
      "23/08/08 21:18:12 WARN MemoryStore: Not enough space to cache rdd_24_101 in memory! (computed 13.6 MiB so far)\n",
      "23/08/08 21:18:12 WARN MemoryStore: Not enough space to cache rdd_24_99 in memory! (computed 13.6 MiB so far)\n",
      "23/08/08 21:18:12 WARN MemoryStore: Not enough space to cache rdd_24_96 in memory! (computed 1302.8 KiB so far)\n",
      "23/08/08 21:18:12 WARN MemoryStore: Failed to reserve initial memory threshold of 1024.0 KiB for computing block rdd_24_97 in memory.\n",
      "23/08/08 21:18:12 WARN MemoryStore: Failed to reserve initial memory threshold of 1024.0 KiB for computing block rdd_24_103 in memory.\n",
      "23/08/08 21:18:12 WARN MemoryStore: Failed to reserve initial memory threshold of 1024.0 KiB for computing block rdd_24_98 in memory.\n",
      "23/08/08 21:18:12 WARN MemoryStore: Failed to reserve initial memory threshold of 1024.0 KiB for computing block rdd_24_100 in memory.\n",
      "23/08/08 21:18:12 WARN MemoryStore: Not enough space to cache rdd_24_100 in memory! (computed 384.0 B so far)\n",
      "23/08/08 21:18:12 WARN MemoryStore: Not enough space to cache rdd_24_97 in memory! (computed 384.0 B so far)\n",
      "23/08/08 21:18:12 WARN MemoryStore: Not enough space to cache rdd_24_98 in memory! (computed 384.0 B so far)\n",
      "23/08/08 21:18:12 WARN MemoryStore: Not enough space to cache rdd_24_103 in memory! (computed 384.0 B so far)\n",
      "23/08/08 21:18:13 WARN MemoryStore: Failed to reserve initial memory threshold of 1024.0 KiB for computing block rdd_24_107 in memory.\n",
      "23/08/08 21:18:13 WARN MemoryStore: Not enough space to cache rdd_24_109 in memory! (computed 1301.6 KiB so far)\n",
      "23/08/08 21:18:13 WARN MemoryStore: Not enough space to cache rdd_24_106 in memory! (computed 1301.9 KiB so far)\n",
      "23/08/08 21:18:13 WARN MemoryStore: Not enough space to cache rdd_24_104 in memory! (computed 1301.8 KiB so far)\n",
      "23/08/08 21:18:13 WARN MemoryStore: Not enough space to cache rdd_24_108 in memory! (computed 1301.8 KiB so far)\n",
      "23/08/08 21:18:13 WARN MemoryStore: Not enough space to cache rdd_24_110 in memory! (computed 1301.9 KiB so far)\n",
      "23/08/08 21:18:13 WARN MemoryStore: Not enough space to cache rdd_24_105 in memory! (computed 1300.2 KiB so far)\n",
      "23/08/08 21:18:13 WARN MemoryStore: Not enough space to cache rdd_24_107 in memory! (computed 384.0 B so far)\n",
      "23/08/08 21:18:13 WARN MemoryStore: Not enough space to cache rdd_24_111 in memory! (computed 1301.4 KiB so far)\n",
      "23/08/08 21:18:15 WARN MemoryStore: Failed to reserve initial memory threshold of 1024.0 KiB for computing block rdd_24_115 in memory.\n",
      "23/08/08 21:18:15 WARN MemoryStore: Not enough space to cache rdd_24_117 in memory! (computed 1302.2 KiB so far)\n",
      "23/08/08 21:18:15 WARN MemoryStore: Not enough space to cache rdd_24_118 in memory! (computed 1302.7 KiB so far)\n",
      "23/08/08 21:18:15 WARN MemoryStore: Not enough space to cache rdd_24_119 in memory! (computed 1301.4 KiB so far)\n",
      "23/08/08 21:18:15 WARN MemoryStore: Not enough space to cache rdd_24_113 in memory! (computed 1301.7 KiB so far)\n",
      "23/08/08 21:18:15 WARN MemoryStore: Not enough space to cache rdd_24_112 in memory! (computed 1302.1 KiB so far)\n",
      "23/08/08 21:18:15 WARN MemoryStore: Not enough space to cache rdd_24_116 in memory! (computed 1301.7 KiB so far)\n",
      "23/08/08 21:18:15 WARN MemoryStore: Not enough space to cache rdd_24_114 in memory! (computed 1302.4 KiB so far)\n",
      "23/08/08 21:18:15 WARN MemoryStore: Not enough space to cache rdd_24_115 in memory! (computed 384.0 B so far)\n",
      "23/08/08 21:18:16 WARN MemoryStore: Failed to reserve initial memory threshold of 1024.0 KiB for computing block rdd_24_125 in memory.\n",
      "23/08/08 21:18:16 WARN MemoryStore: Not enough space to cache rdd_24_123 in memory! (computed 1302.4 KiB so far)\n",
      "23/08/08 21:18:16 WARN MemoryStore: Not enough space to cache rdd_24_121 in memory! (computed 1301.8 KiB so far)\n",
      "23/08/08 21:18:16 WARN MemoryStore: Not enough space to cache rdd_24_120 in memory! (computed 1301.9 KiB so far)\n",
      "23/08/08 21:18:16 WARN MemoryStore: Not enough space to cache rdd_24_127 in memory! (computed 1301.9 KiB so far)\n",
      "23/08/08 21:18:16 WARN MemoryStore: Not enough space to cache rdd_24_126 in memory! (computed 1302.6 KiB so far)\n",
      "23/08/08 21:18:16 WARN MemoryStore: Not enough space to cache rdd_24_124 in memory! (computed 1302.5 KiB so far)\n",
      "23/08/08 21:18:16 WARN MemoryStore: Not enough space to cache rdd_24_122 in memory! (computed 1301.0 KiB so far)\n",
      "23/08/08 21:18:16 WARN MemoryStore: Not enough space to cache rdd_24_125 in memory! (computed 384.0 B so far)\n",
      "23/08/08 21:18:18 WARN MemoryStore: Failed to reserve initial memory threshold of 1024.0 KiB for computing block rdd_24_134 in memory.\n",
      "23/08/08 21:18:18 WARN MemoryStore: Not enough space to cache rdd_24_135 in memory! (computed 1301.8 KiB so far)\n",
      "23/08/08 21:18:18 WARN MemoryStore: Not enough space to cache rdd_24_132 in memory! (computed 1301.2 KiB so far)\n",
      "23/08/08 21:18:18 WARN MemoryStore: Not enough space to cache rdd_24_133 in memory! (computed 1303.2 KiB so far)\n",
      "23/08/08 21:18:18 WARN MemoryStore: Not enough space to cache rdd_24_128 in memory! (computed 1302.2 KiB so far)\n",
      "23/08/08 21:18:18 WARN MemoryStore: Not enough space to cache rdd_24_131 in memory! (computed 1301.8 KiB so far)\n",
      "23/08/08 21:18:18 WARN MemoryStore: Not enough space to cache rdd_24_130 in memory! (computed 1301.7 KiB so far)\n",
      "23/08/08 21:18:18 WARN MemoryStore: Not enough space to cache rdd_24_129 in memory! (computed 1302.7 KiB so far)\n",
      "23/08/08 21:18:18 WARN MemoryStore: Not enough space to cache rdd_24_134 in memory! (computed 384.0 B so far)\n",
      "23/08/08 21:18:19 WARN MemoryStore: Failed to reserve initial memory threshold of 1024.0 KiB for computing block rdd_24_138 in memory.\n",
      "23/08/08 21:18:19 WARN MemoryStore: Not enough space to cache rdd_24_139 in memory! (computed 1302.1 KiB so far)\n",
      "23/08/08 21:18:19 WARN MemoryStore: Not enough space to cache rdd_24_143 in memory! (computed 1301.3 KiB so far)\n",
      "23/08/08 21:18:19 WARN MemoryStore: Not enough space to cache rdd_24_140 in memory! (computed 1302.2 KiB so far)\n",
      "23/08/08 21:18:19 WARN MemoryStore: Not enough space to cache rdd_24_142 in memory! (computed 1300.9 KiB so far)\n",
      "23/08/08 21:18:19 WARN MemoryStore: Not enough space to cache rdd_24_137 in memory! (computed 1301.0 KiB so far)\n",
      "23/08/08 21:18:19 WARN MemoryStore: Not enough space to cache rdd_24_136 in memory! (computed 1301.2 KiB so far)\n",
      "23/08/08 21:18:19 WARN MemoryStore: Not enough space to cache rdd_24_138 in memory! (computed 384.0 B so far)\n",
      "23/08/08 21:18:19 WARN MemoryStore: Not enough space to cache rdd_24_141 in memory! (computed 1301.8 KiB so far)\n",
      "23/08/08 21:18:20 WARN MemoryStore: Not enough space to cache rdd_24_146 in memory! (computed 1302.2 KiB so far)\n",
      "23/08/08 21:18:20 WARN MemoryStore: Not enough space to cache rdd_24_148 in memory! (computed 1300.9 KiB so far)\n",
      "23/08/08 21:18:20 WARN MemoryStore: Not enough space to cache rdd_24_144 in memory! (computed 1301.2 KiB so far)\n",
      "23/08/08 21:18:20 WARN MemoryStore: Not enough space to cache rdd_24_149 in memory! (computed 1301.6 KiB so far)\n",
      "23/08/08 21:18:20 WARN MemoryStore: Not enough space to cache rdd_24_150 in memory! (computed 1302.5 KiB so far)\n",
      "23/08/08 21:18:20 WARN MemoryStore: Failed to reserve initial memory threshold of 1024.0 KiB for computing block rdd_24_147 in memory.\n",
      "23/08/08 21:18:20 WARN MemoryStore: Not enough space to cache rdd_24_151 in memory! (computed 1301.7 KiB so far)\n",
      "23/08/08 21:18:20 WARN MemoryStore: Not enough space to cache rdd_24_145 in memory! (computed 1302.0 KiB so far)\n",
      "23/08/08 21:18:20 WARN MemoryStore: Not enough space to cache rdd_24_147 in memory! (computed 384.0 B so far)\n",
      "23/08/08 21:18:21 WARN MemoryStore: Not enough space to cache rdd_24_155 in memory! (computed 1301.8 KiB so far)\n",
      "23/08/08 21:18:21 WARN MemoryStore: Not enough space to cache rdd_24_157 in memory! (computed 1302.2 KiB so far)\n",
      "23/08/08 21:18:21 WARN MemoryStore: Not enough space to cache rdd_24_152 in memory! (computed 1301.4 KiB so far)\n",
      "23/08/08 21:18:21 WARN MemoryStore: Not enough space to cache rdd_24_154 in memory! (computed 1301.3 KiB so far)\n",
      "23/08/08 21:18:21 WARN MemoryStore: Failed to reserve initial memory threshold of 1024.0 KiB for computing block rdd_24_153 in memory.\n",
      "23/08/08 21:18:21 WARN MemoryStore: Not enough space to cache rdd_24_156 in memory! (computed 1302.3 KiB so far)\n",
      "23/08/08 21:18:21 WARN MemoryStore: Not enough space to cache rdd_24_159 in memory! (computed 1302.4 KiB so far)\n",
      "23/08/08 21:18:21 WARN MemoryStore: Not enough space to cache rdd_24_158 in memory! (computed 1301.1 KiB so far)\n",
      "23/08/08 21:18:21 WARN MemoryStore: Not enough space to cache rdd_24_153 in memory! (computed 384.0 B so far)\n",
      "23/08/08 21:18:23 WARN MemoryStore: Failed to reserve initial memory threshold of 1024.0 KiB for computing block rdd_24_164 in memory.\n",
      "23/08/08 21:18:23 WARN MemoryStore: Not enough space to cache rdd_24_162 in memory! (computed 1302.2 KiB so far)\n",
      "23/08/08 21:18:23 WARN MemoryStore: Not enough space to cache rdd_24_163 in memory! (computed 1302.0 KiB so far)\n",
      "23/08/08 21:18:23 WARN MemoryStore: Not enough space to cache rdd_24_160 in memory! (computed 1301.2 KiB so far)\n",
      "23/08/08 21:18:23 WARN MemoryStore: Not enough space to cache rdd_24_167 in memory! (computed 1302.3 KiB so far)\n",
      "23/08/08 21:18:23 WARN MemoryStore: Not enough space to cache rdd_24_161 in memory! (computed 1301.3 KiB so far)\n",
      "23/08/08 21:18:23 WARN MemoryStore: Not enough space to cache rdd_24_165 in memory! (computed 1302.4 KiB so far)\n",
      "23/08/08 21:18:23 WARN MemoryStore: Not enough space to cache rdd_24_166 in memory! (computed 1302.3 KiB so far)\n",
      "23/08/08 21:18:23 WARN MemoryStore: Not enough space to cache rdd_24_164 in memory! (computed 384.0 B so far)\n",
      "23/08/08 21:18:24 WARN MemoryStore: Not enough space to cache rdd_24_175 in memory! (computed 1302.6 KiB so far)\n",
      "23/08/08 21:18:24 WARN MemoryStore: Not enough space to cache rdd_24_170 in memory! (computed 1302.1 KiB so far)\n",
      "23/08/08 21:18:24 WARN MemoryStore: Not enough space to cache rdd_24_173 in memory! (computed 1302.1 KiB so far)\n",
      "23/08/08 21:18:24 WARN MemoryStore: Not enough space to cache rdd_24_168 in memory! (computed 1302.8 KiB so far)\n",
      "23/08/08 21:18:24 WARN MemoryStore: Failed to reserve initial memory threshold of 1024.0 KiB for computing block rdd_24_169 in memory.\n",
      "23/08/08 21:18:24 WARN MemoryStore: Not enough space to cache rdd_24_172 in memory! (computed 1301.6 KiB so far)\n",
      "23/08/08 21:18:24 WARN MemoryStore: Not enough space to cache rdd_24_171 in memory! (computed 1301.1 KiB so far)\n",
      "23/08/08 21:18:24 WARN MemoryStore: Not enough space to cache rdd_24_174 in memory! (computed 1300.7 KiB so far)\n",
      "23/08/08 21:18:24 WARN MemoryStore: Not enough space to cache rdd_24_169 in memory! (computed 384.0 B so far)\n",
      "23/08/08 21:18:26 WARN MemoryStore: Not enough space to cache rdd_24_183 in memory! (computed 13.7 MiB so far)\n",
      "23/08/08 21:18:26 WARN MemoryStore: Not enough space to cache rdd_24_177 in memory! (computed 13.6 MiB so far)\n",
      "23/08/08 21:18:26 WARN MemoryStore: Not enough space to cache rdd_24_176 in memory! (computed 13.6 MiB so far)\n",
      "                                                                                \r"
     ]
    },
    {
     "name": "stdout",
     "output_type": "stream",
     "text": [
      "+--------------------+--------------------+--------------------+-------------------+--------------------+--------------------+------------------+----------------+-------------------+-----+\n",
      "|         merchant_id|                 _id|          subsidiary|   transaction_date|      account_number|             user_id|transaction_amount|transaction_type|   transaction_diff|Fract|\n",
      "+--------------------+--------------------+--------------------+-------------------+--------------------+--------------------+------------------+----------------+-------------------+-----+\n",
      "|817d18cd3c31e40e9...|ff835ae6aa80e7fff...|2ae700c733c02d781...|2021-09-20 18:21:00|6de86a7f937864c8a...|00000158a82e34eb0...|       23.77782004|          DEBITO|2021-09-20 18:19:55|    1|\n",
      "|817d18cd3c31e40e9...|54134def4e7bfb19b...|4598e8c439f5b7d0a...|2021-11-23 14:48:07|10e6890a86c790e6a...|000004f4a6f3ac93f...|       47.55564009|          DEBITO|2021-11-23 14:38:39|    1|\n",
      "|817d18cd3c31e40e9...|fb2051aab9031db96...|27364a641b7b4859d...|2021-09-04 13:59:35|f52552259cff7d5b4...|0000180e94707c0d9...|       59.44455012|          DEBITO|2021-09-04 13:56:05|    1|\n",
      "|817d18cd3c31e40e9...|06c0f8b0c0b1a3d7a...|bab468f2fd53b474a...|2021-09-05 09:17:29|f52552259cff7d5b4...|0000180e94707c0d9...|       23.77782004|          DEBITO|2021-09-04 13:59:35|    1|\n",
      "|817d18cd3c31e40e9...|fccb1fae8be8a7ca5...|bab468f2fd53b474a...|2021-09-05 09:18:39|f52552259cff7d5b4...|0000180e94707c0d9...|       23.77782004|          DEBITO|2021-09-05 09:17:29|    1|\n",
      "|817d18cd3c31e40e9...|6246bf67117d6b8dc...|df2f495bb73eb0fba...|2021-10-13 07:29:23|f52552259cff7d5b4...|0000180e94707c0d9...|      118.88910024|          DEBITO|2021-10-13 06:49:58|    1|\n",
      "|817d18cd3c31e40e9...|23bdc365f3f7e9938...|c4ea18488b2325723...|2021-10-25 13:50:32|f52552259cff7d5b4...|0000180e94707c0d9...|       59.44455012|          DEBITO|2021-10-25 12:32:22|    1|\n",
      "|817d18cd3c31e40e9...|e61c7fea845e23e89...|11fddc373ec06ed1b...|2021-10-26 09:20:34|f52552259cff7d5b4...|0000180e94707c0d9...|      118.88910024|          DEBITO|2021-10-25 13:50:32|    1|\n",
      "|838a8fa992a4aa2fb...|3c1810fbafde0e9a2...|d4b31b123120a4eef...|2021-01-12 05:44:31|92bd02dd640a7575e...|00001b14c4e2e0e4d...|      142.66692029|         CREDITO|2021-01-11 08:53:15|    1|\n",
      "|817d18cd3c31e40e9...|0190153f33fc50140...|2bd19d60bd91aeef6...|2021-01-12 07:22:56|92bd02dd640a7575e...|00001b14c4e2e0e4d...|      249.66711051|          DEBITO|2021-01-12 05:44:31|    1|\n",
      "+--------------------+--------------------+--------------------+-------------------+--------------------+--------------------+------------------+----------------+-------------------+-----+\n",
      "only showing top 10 rows\n",
      "\n"
     ]
    }
   ],
   "source": [
    "samples.orderBy(\"user_id\",\"transaction_date\").show(10)"
   ]
  },
  {
   "cell_type": "code",
   "execution_count": null,
   "metadata": {},
   "outputs": [],
   "source": [
    "spark.stop()"
   ]
  },
  {
   "cell_type": "code",
   "execution_count": null,
   "metadata": {},
   "outputs": [],
   "source": []
  }
 ],
 "metadata": {
  "kernelspec": {
   "display_name": "Python 3",
   "language": "python",
   "name": "python3"
  },
  "language_info": {
   "codemirror_mode": {
    "name": "ipython",
    "version": 3
   },
   "file_extension": ".py",
   "mimetype": "text/x-python",
   "name": "python",
   "nbconvert_exporter": "python",
   "pygments_lexer": "ipython3",
   "version": "3.9.6"
  },
  "orig_nbformat": 4
 },
 "nbformat": 4,
 "nbformat_minor": 2
}
